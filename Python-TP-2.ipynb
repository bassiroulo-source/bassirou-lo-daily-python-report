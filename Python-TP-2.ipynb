{
 "cells": [
  {
   "cell_type": "markdown",
   "id": "d68c1dee",
   "metadata": {
    "id": "d68c1dee"
   },
   "source": [
    "# Practical_2: String and files"
   ]
  },
  {
   "cell_type": "markdown",
   "id": "3c33fdd8-adaf-4879-8344-15e4f27193a4",
   "metadata": {
    "id": "dcf6ca38"
   },
   "source": [
    "Exercise 1:\n",
    "Create a string variable text and assign it the value \"Python is amazing!\"."
   ]
  },
  {
   "cell_type": "code",
   "execution_count": 55,
   "id": "faa76a92-6749-4f13-93d6-2b8850a59db9",
   "metadata": {},
   "outputs": [],
   "source": [
    "TEXT=\"Python is amazing!\""
   ]
  },
  {
   "cell_type": "markdown",
   "id": "d7cb03a7-e506-4e42-b030-06e5ab64cfed",
   "metadata": {},
   "source": [
    "Exercise 2:\n",
    "Find the length of the string \"Hello, World!\" and store it in a variable length."
   ]
  },
  {
   "cell_type": "code",
   "execution_count": 57,
   "id": "e99e4048-4a51-4539-9b22-e29392b7cd33",
   "metadata": {},
   "outputs": [],
   "source": [
    "text = \"Hello, World!\""
   ]
  },
  {
   "cell_type": "code",
   "execution_count": 60,
   "id": "83ed1ce9-f19a-4e56-a510-1246d2281c7c",
   "metadata": {},
   "outputs": [
    {
     "name": "stdout",
     "output_type": "stream",
     "text": [
      "13\n"
     ]
    }
   ],
   "source": [
    "length=len(text)\n",
    "print(length)"
   ]
  },
  {
   "cell_type": "markdown",
   "id": "6dfb3644-907c-4f58-8871-ce46c7a66994",
   "metadata": {},
   "source": [
    "Exercise 3:\n",
    "Convert the string \"python programming\" to uppercase and store it in a variable upper_text."
   ]
  },
  {
   "cell_type": "code",
   "execution_count": 63,
   "id": "52da6f5a-e03e-43d9-915c-c5e90dc05fba",
   "metadata": {},
   "outputs": [
    {
     "name": "stdout",
     "output_type": "stream",
     "text": [
      "python programming\n"
     ]
    }
   ],
   "source": [
    "text=\"python programming\"\n",
    "P_text=text\n",
    "print(P_text)"
   ]
  },
  {
   "cell_type": "markdown",
   "id": "05986099-1ad2-4cf5-98af-ac28bebe8aa9",
   "metadata": {},
   "source": [
    "### Exercise 4:\n",
    "Extract the first 5 characters from the string `\"Artificial Intelligence\"`."
   ]
  },
  {
   "cell_type": "code",
   "execution_count": 64,
   "id": "8161e531-73a7-4952-87bd-96fe7f9800aa",
   "metadata": {},
   "outputs": [],
   "source": [
    "texte=\"Artificial Intelligence\""
   ]
  },
  {
   "cell_type": "code",
   "execution_count": 65,
   "id": "16bf5b65-8051-4cc1-83bd-5efd923528c6",
   "metadata": {},
   "outputs": [
    {
     "data": {
      "text/plain": [
       "'Artif'"
      ]
     },
     "execution_count": 65,
     "metadata": {},
     "output_type": "execute_result"
    }
   ],
   "source": [
    "texte[:5]"
   ]
  },
  {
   "cell_type": "markdown",
   "id": "02f6ea67-1c39-49c4-b7f6-bd5db939e29d",
   "metadata": {},
   "source": [
    "### Exercise 5:\n",
    "Concatenate the strings `\"Hello\"` and `\"World\"` with a space in between."
   ]
  },
  {
   "cell_type": "code",
   "execution_count": 66,
   "id": "c718864a-0aec-43f1-b390-53fb65cbf54c",
   "metadata": {},
   "outputs": [
    {
     "name": "stdout",
     "output_type": "stream",
     "text": [
      "Hello World\n"
     ]
    }
   ],
   "source": [
    "a = \"Hello\"\n",
    "b = \"World\"\n",
    "c = a +\" \"+ b\n",
    "print(c)\n"
   ]
  },
  {
   "cell_type": "markdown",
   "id": "58044928-bbb7-4f2c-9bd3-a38b4da51515",
   "metadata": {},
   "source": [
    "### Exercise 6:\n",
    "Replace the word `\"dog\"` with `\"cat\"` in the string `\"The quick brown dog jumps over the lazy dog.\"`."
   ]
  },
  {
   "cell_type": "code",
   "execution_count": 68,
   "id": "a97dfc4d-ce43-468c-a5f6-78911d875796",
   "metadata": {},
   "outputs": [
    {
     "name": "stdout",
     "output_type": "stream",
     "text": [
      "The quick brown cat jumps over the lazy cat.\n"
     ]
    }
   ],
   "source": [
    "texte=\"The quick brown dog jumps over the lazy dog.\"\n",
    "new_texte=texte.replace(\"dog\",\"cat\")\n",
    "print(new_texte)"
   ]
  },
  {
   "cell_type": "markdown",
   "id": "4b7454dc-bc13-48b4-8043-fa6f1a82b93d",
   "metadata": {},
   "source": [
    "### Exercise 7:\n",
    "Split the string `\"apple,banana,orange\"` by commas and store the result in a list `fruits_list`."
   ]
  },
  {
   "cell_type": "code",
   "execution_count": 69,
   "id": "d30fbe33-ea71-4e1b-aa82-b79c433f33f6",
   "metadata": {},
   "outputs": [
    {
     "name": "stdout",
     "output_type": "stream",
     "text": [
      "['apple', 'banana', 'orange']\n"
     ]
    }
   ],
   "source": [
    "fruits_list=[\"apple\", \"banana\", \"orange\"]\n",
    "print(fruits_list)"
   ]
  },
  {
   "cell_type": "markdown",
   "id": "fe9132b3-892e-453f-a1a5-be918f2f4ca6",
   "metadata": {},
   "source": [
    "### Exercise 8:\n",
    "Use string formatting to create the sentence `\"My name is Alice and I am 25 years old.\"`, where the name and age are variables."
   ]
  },
  {
   "cell_type": "code",
   "execution_count": 70,
   "id": "1e2116ff-4c3d-46a8-929d-186d41778fc1",
   "metadata": {},
   "outputs": [
    {
     "name": "stdout",
     "output_type": "stream",
     "text": [
      "My name is Bassirou and I am 25 years old\n"
     ]
    }
   ],
   "source": [
    "name=\"Bassirou\"\n",
    "age=25\n",
    "print(f\"My name is {name} and I am {age} years old\")\n"
   ]
  },
  {
   "cell_type": "markdown",
   "id": "6137526b-bf7b-4780-9be2-dd4e6fe7cfd3",
   "metadata": {},
   "source": [
    "### Exercise 9:\n",
    "Check if the string `\"python\"` is present in the sentence `\"I love python programming\"`."
   ]
  },
  {
   "cell_type": "code",
   "execution_count": 71,
   "id": "34f342c8-7bf2-4d89-bee4-c9e01c94f9eb",
   "metadata": {},
   "outputs": [
    {
     "name": "stdout",
     "output_type": "stream",
     "text": [
      "True\n"
     ]
    }
   ],
   "source": [
    "sent=\"I love python programming\"\n",
    "word=\"python\"\n",
    "th=word in sent\n",
    "print(th)"
   ]
  },
  {
   "cell_type": "markdown",
   "id": "7266b2ae-a21f-4d79-846d-9d7a52b4d7fb",
   "metadata": {},
   "source": [
    "### Exercise 10:\n",
    "Count the number of occurrences of the letter `\"e\"` in the string `\"Elephant is an elegant animal\"`."
   ]
  },
  {
   "cell_type": "code",
   "execution_count": 72,
   "id": "6a2122a2-5639-4091-a1de-2d9311a24bb9",
   "metadata": {},
   "outputs": [
    {
     "name": "stdout",
     "output_type": "stream",
     "text": [
      "3\n"
     ]
    }
   ],
   "source": [
    "sentence=\"Elephant is an elegant animal\"\n",
    "number=sentence.count(\"e\")\n",
    "print(number)"
   ]
  },
  {
   "cell_type": "markdown",
   "id": "38434af8-0ed5-4203-82c5-55f18ead3f6f",
   "metadata": {},
   "source": [
    "### Exercise 11:\n",
    "Remove any leading and trailing spaces from the string `\"   Data Science   \"`."
   ]
  },
  {
   "cell_type": "code",
   "execution_count": 73,
   "id": "8570ba94-eb83-4fa8-ae04-a6b7400c5e73",
   "metadata": {},
   "outputs": [
    {
     "name": "stdout",
     "output_type": "stream",
     "text": [
      "Data Science\n"
     ]
    }
   ],
   "source": [
    "sentence=\"   Data Science   \"\n",
    "deplac=sentence.strip()\n",
    "print(deplac)"
   ]
  },
  {
   "cell_type": "markdown",
   "id": "68c87719-a5db-4423-9939-a3306e1f2e2c",
   "metadata": {},
   "source": [
    "### Exercise 12:\n",
    "Convert the string `\"100\"` into an integer and store it in a variable `int_value`."
   ]
  },
  {
   "cell_type": "code",
   "execution_count": 74,
   "id": "52d7b74b-f321-46b6-962f-809f19e4baa4",
   "metadata": {},
   "outputs": [
    {
     "name": "stdout",
     "output_type": "stream",
     "text": [
      "100\n"
     ]
    }
   ],
   "source": [
    "text=100\n",
    "int_value=int(text)\n",
    "print(int_value)"
   ]
  },
  {
   "cell_type": "markdown",
   "id": "74515636-08ce-4804-9ce2-f31662566390",
   "metadata": {},
   "source": [
    "### Exercise 13:\n",
    "Extract the substring `\"pro\"` from the string `\"programming\"`."
   ]
  },
  {
   "cell_type": "code",
   "execution_count": 75,
   "id": "73b46600-bd42-4162-8314-18c228345392",
   "metadata": {},
   "outputs": [
    {
     "name": "stdout",
     "output_type": "stream",
     "text": [
      "pro\n"
     ]
    }
   ],
   "source": [
    "sentence=\"programming\"\n",
    "substring=sentence[:3]\n",
    "print(substring)"
   ]
  },
  {
   "cell_type": "markdown",
   "id": "e615895a-7166-4768-9f32-8007213a55a2",
   "metadata": {},
   "source": [
    "### Exercise 14:\n",
    "Check if the string `\"data\"` starts with `\"da\"` and ends with `\"ta\"`."
   ]
  },
  {
   "cell_type": "code",
   "execution_count": 79,
   "id": "9594e4f8-f33f-4275-a805-7e03509bccce",
   "metadata": {},
   "outputs": [
    {
     "name": "stdout",
     "output_type": "stream",
     "text": [
      "tada\n"
     ]
    }
   ],
   "source": [
    "sent=\"data\"\n",
    "Don=\"da\"\n",
    "trouve=\"ta\"\n",
    "trouves= trouve + Don\n",
    "print(trouves)"
   ]
  },
  {
   "cell_type": "code",
   "execution_count": null,
   "id": "a0d18ff4-8fc2-4319-a81f-d02af1eeea10",
   "metadata": {},
   "outputs": [],
   "source": [
    "### Exercise 15:\n",
    "Reverse the string `\"machine learning\"` and store the result in `reversed_text"
   ]
  },
  {
   "cell_type": "code",
   "execution_count": 83,
   "id": "04580051-3cec-4915-9541-7cbc61b23f7c",
   "metadata": {},
   "outputs": [
    {
     "name": "stdout",
     "output_type": "stream",
     "text": [
      "gninrael enihcam\n"
     ]
    }
   ],
   "source": [
    "Veux=\"machine learning\"\n",
    "reversed_text=Veux[::-1]\n",
    "print(reversed_text)"
   ]
  },
  {
   "cell_type": "markdown",
   "id": "cd4e3b80-b880-4e9f-a586-00e3e5fafe80",
   "metadata": {},
   "source": [
    "### Exercise 16:\n",
    "Convert the first letter of each word in the string `\"machine learning is fun\"` to uppercase."
   ]
  },
  {
   "cell_type": "code",
   "execution_count": 84,
   "id": "9c095ee5-29a5-4bbf-be27-6a2e1e388bd2",
   "metadata": {},
   "outputs": [
    {
     "name": "stdout",
     "output_type": "stream",
     "text": [
      "Machine Learning Is Fun\n"
     ]
    }
   ],
   "source": [
    "text = \"machine learning is fun\"\n",
    "cap_text = text.title()\n",
    "print(cap_text)"
   ]
  },
  {
   "cell_type": "markdown",
   "id": "5416f905-b07a-479a-920a-26d53e5857c4",
   "metadata": {},
   "source": [
    "### Exercise 17:\n",
    "Create a multiline string representing a poem and store it in a variable `poem`"
   ]
  },
  {
   "cell_type": "code",
   "execution_count": 85,
   "id": "bbeaf443-3b52-4d58-bf28-23c4ca60931f",
   "metadata": {},
   "outputs": [
    {
     "name": "stdout",
     "output_type": "stream",
     "text": [
      "Bonjour ,football,Joueur,Terrain.\n"
     ]
    }
   ],
   "source": [
    "# Exercise 17\n",
    "poem = \"\"\"Bonjour ,football,Joueur,Terrain.\"\"\"\n",
    "print(poem)\n"
   ]
  },
  {
   "cell_type": "markdown",
   "id": "4767d002-4779-41ab-a6f4-056bac6f1403",
   "metadata": {},
   "source": [
    "### Exercise 18:\n",
    "Write a string to a file named `\"output.txt\"`."
   ]
  },
  {
   "cell_type": "code",
   "execution_count": 2,
   "id": "091d5dfd-bb90-4098-a1e5-7f482078fa0e",
   "metadata": {},
   "outputs": [
    {
     "name": "stdout",
     "output_type": "stream",
     "text": [
      "43\n"
     ]
    }
   ],
   "source": [
    "text = \"This is a sample string to write to a file.\"\n",
    "with open(\"output.txt\", \"w\") as file:\n",
    "   bbb= file.write(text)\n",
    "print(bbb)"
   ]
  },
  {
   "cell_type": "markdown",
   "id": "6cd2fc0b-e36f-4f12-9afd-220a0c2679b1",
   "metadata": {},
   "source": [
    "### Exercise 19:\n",
    "Read the contents of a file named `\"data.txt\"` and print it line by line."
   ]
  },
  {
   "cell_type": "code",
   "execution_count": 6,
   "id": "723bc4ac-8156-4a9f-a320-8ddba638d0a3",
   "metadata": {},
   "outputs": [
    {
     "name": "stdout",
     "output_type": "stream",
     "text": [
      "Error: The file 'C:/Users/Bassirou/Documents/data.txt' was not found.\n"
     ]
    }
   ],
   "source": [
    "file_path = \"C:/Users/Bassirou/Documents/data.txt\"\n",
    "\n",
    "try:\n",
    "    with open(file_path, \"r\") as file:\n",
    "        for line in file:\n",
    "            print(line.strip())\n",
    "except FileNotFoundError:\n",
    "    print(f\"Error: The file '{file_path}' was not found.\")\n"
   ]
  },
  {
   "cell_type": "markdown",
   "id": "bb2b165e-3828-483f-bd26-78f159d609a7",
   "metadata": {},
   "source": [
    "### Exercise 20:\n",
    "Check if a file `\"example.txt\"` exists before opening it."
   ]
  },
  {
   "cell_type": "code",
   "execution_count": 23,
   "id": "ed08b9c8-6573-45a6-8907-0fa6413dddf4",
   "metadata": {},
   "outputs": [
    {
     "name": "stdout",
     "output_type": "stream",
     "text": [
      "The file 'C:/Users/Bassirou/Documents/example.txt' does not exist.\n"
     ]
    }
   ],
   "source": [
    "import os\n",
    "\n",
    "file_path = \"C:/Users/Bassirou/Documents/example.txt\"\n",
    "\n",
    "if os.path.exists(file_path):\n",
    "    with open(file_path, \"r\") as file:\n",
    "        for line in file:\n",
    "            print(line.strip())\n",
    "else:\n",
    "    print(f\"The file '{file_path}' does not exist.\")"
   ]
  },
  {
   "cell_type": "markdown",
   "id": "8a088918-1c39-4678-8979-ac8211e6d269",
   "metadata": {},
   "source": [
    "### Exercise 21:\n",
    "Append a new line `\"This is a new line\"` to an existing file `\"notes.txt\"`."
   ]
  },
  {
   "cell_type": "code",
   "execution_count": 47,
   "id": "31b2c767-116e-48e7-ac9a-3e547429fe2c",
   "metadata": {},
   "outputs": [],
   "source": [
    "with open(\"notes.txt\", \"a\") as file:\n",
    "    file.write(\"This is a new line\\n\")"
   ]
  },
  {
   "cell_type": "markdown",
   "id": "9192b95b-3e1f-4adc-9d1f-2185cc30f740",
   "metadata": {},
   "source": [
    "### Exercise 22:\n",
    "Read the contents of a file `\"log.txt\"` and store each line in a list `log_lines`."
   ]
  },
  {
   "cell_type": "code",
   "execution_count": 53,
   "id": "5fdf8b16-36da-4e12-bb22-1bdace91efd4",
   "metadata": {},
   "outputs": [
    {
     "name": "stdout",
     "output_type": "stream",
     "text": [
      "[]\n"
     ]
    }
   ],
   "source": [
    "with open(\"log.txt\", \"r\") as file:\n",
    "    log_lines = [line.strip() for line in file]\n",
    "\n",
    "print(log_lines)"
   ]
  },
  {
   "cell_type": "markdown",
   "id": "619f2877-d29e-4394-bfe1-2f4fc20d3651",
   "metadata": {},
   "source": [
    "### Exercise 23:\n",
    "Create a new file `\"report.txt\"` and write the string `\"Data analysis report\"` to it."
   ]
  },
  {
   "cell_type": "code",
   "execution_count": 55,
   "id": "87f60e24-e9c6-4ae7-8f13-1b8986b53c96",
   "metadata": {},
   "outputs": [],
   "source": [
    "with open(\"report.txt\", \"w\") as file:\n",
    "    file.write(\"Data analysis report\")"
   ]
  },
  {
   "cell_type": "markdown",
   "id": "8440ef78-9171-4244-a39e-bf27bf8a4144",
   "metadata": {},
   "source": [
    "### Exercise 24:\n",
    "Replace the word `\"error\"` with `\"issue\"` in a file `\"log.txt\"`."
   ]
  },
  {
   "cell_type": "code",
   "execution_count": 56,
   "id": "c4072320-547d-4ad5-9bb4-8038028fd185",
   "metadata": {},
   "outputs": [],
   "source": [
    "with open(\"log.txt\", \"r\") as file:\n",
    "    content = file.read()\n",
    "\n",
    "content = content.replace(\"error\", \"issue\")\n",
    "\n",
    "with open(\"log.txt\", \"w\") as file:\n",
    "    file.write(content)"
   ]
  },
  {
   "cell_type": "markdown",
   "id": "b81e37d0-27a3-4972-ae44-1e472075452f",
   "metadata": {},
   "source": [
    "### Exercise 25:\n",
    "Count the number of words in a text file `\"document.txt\"`."
   ]
  },
  {
   "cell_type": "code",
   "execution_count": 59,
   "id": "08afb5d9-e4b1-4df4-af2a-a325ab5b8506",
   "metadata": {},
   "outputs": [
    {
     "name": "stdout",
     "output_type": "stream",
     "text": [
      "Number of words: 0\n"
     ]
    }
   ],
   "source": [
    "with open(\"document.txt\", \"r\") as file:\n",
    "    content = file.read()\n",
    "\n",
    "words = content.split()\n",
    "word_count = len(words)\n",
    "print(\"Number of words:\", word_count)"
   ]
  },
  {
   "cell_type": "markdown",
   "id": "438c92fe-594e-4717-bca3-d1852d64ef81",
   "metadata": {},
   "source": [
    "### Exercise 26:\n",
    "Write a Python script that reads a file `\"essay.txt\"` and prints the total number of lines, words, and charactere"
   ]
  },
  {
   "cell_type": "code",
   "execution_count": 60,
   "id": "15974a66-14a5-47e1-be14-fc665a505be0",
   "metadata": {},
   "outputs": [
    {
     "name": "stdout",
     "output_type": "stream",
     "text": [
      "Lines: 0\n",
      "Words: 0\n",
      "Characters: 0\n"
     ]
    }
   ],
   "source": [
    "with open(\"essay.txt\", \"r\") as file:\n",
    "    lines = file.readlines()\n",
    "\n",
    "num_lines = len(lines)\n",
    "num_words = sum(len(line.split()) for line in lines)\n",
    "num_chars = sum(len(line) for line in lines)\n",
    "\n",
    "print(\"Lines:\", num_lines)\n",
    "print(\"Words:\", num_words)\n",
    "print(\"Characters:\", num_chars)\n"
   ]
  },
  {
   "cell_type": "markdown",
   "id": "f62af127-7b94-4506-8499-b70b15c5b82a",
   "metadata": {},
   "source": [
    "### Exercise 27:\n",
    "Copy the contents of one file `\"source.txt\"` to another file `\"destination.txt\"`."
   ]
  },
  {
   "cell_type": "code",
   "execution_count": 62,
   "id": "6ee845d7-26c2-4e8b-b705-deb565be1f12",
   "metadata": {},
   "outputs": [],
   "source": [
    "with open(\"source.txt\", \"r\") as src:\n",
    "    content = src.read()\n",
    "\n",
    "with open(\"destination.txt\", \"w\") as dest:\n",
    "    dest.write(content)"
   ]
  },
  {
   "cell_type": "markdown",
   "id": "4e34e5db-d028-4b78-b7de-80abc6020352",
   "metadata": {},
   "source": [
    "### Exercise 28:\n",
    "Write a Python function that takes a filename as input and returns the number of lines in the file."
   ]
  },
  {
   "cell_type": "code",
   "execution_count": 64,
   "id": "ecfa3876-ded1-4132-8ff0-161437ddb2af",
   "metadata": {},
   "outputs": [
    {
     "name": "stdout",
     "output_type": "stream",
     "text": [
      "0\n"
     ]
    }
   ],
   "source": [
    "def count_lines(filename):\n",
    "    with open(filename, \"r\") as file:\n",
    "        return len(file.readlines())\n",
    "\n",
    "num_lines = count_lines(\"example.txt\")\n",
    "print(num_lines)"
   ]
  },
  {
   "cell_type": "markdown",
   "id": "6ca1b49f-0977-4d40-8eff-64559aaf3d1c",
   "metadata": {},
   "source": [
    "### Exercise 29:\n",
    "Extract all the words from a text file `\"article.txt\"` that contain more than 5 characters."
   ]
  },
  {
   "cell_type": "code",
   "execution_count": 65,
   "id": "8387f833-a4fc-412d-abe0-d4d757dccd4e",
   "metadata": {},
   "outputs": [
    {
     "name": "stdout",
     "output_type": "stream",
     "text": [
      "[]\n"
     ]
    }
   ],
   "source": [
    "with open(\"article.txt\", \"r\") as file:\n",
    "    words = file.read().split()\n",
    "\n",
    "long_words = [word for word in words if len(word) > 5]\n",
    "\n",
    "print(long_words)\n"
   ]
  },
  {
   "cell_type": "markdown",
   "id": "cc827ab5-6953-41f3-81bd-32fe6f5a877f",
   "metadata": {},
   "source": [
    "### Exercise 30:\n",
    "Convert the contents of a file `\"notes.txt\"` to uppercase and save the result in another file `\"uppercase_notes.txt\"`."
   ]
  },
  {
   "cell_type": "code",
   "execution_count": 67,
   "id": "d4c6bd46-19ca-40d9-8a77-974fa27cc091",
   "metadata": {},
   "outputs": [],
   "source": [
    "with open(\"notes.txt\", \"r\") as file:\n",
    "    content = file.read()\n",
    "\n",
    "with open(\"uppercase_notes.txt\", \"w\") as file:\n",
    "    file.write(content.upper())"
   ]
  },
  {
   "cell_type": "markdown",
   "id": "bc1780af-1ede-429c-928d-97daad9874ec",
   "metadata": {},
   "source": [
    "### Exercise 31:\n",
    "Write a Python script that reads a file and removes all empty lines."
   ]
  },
  {
   "cell_type": "code",
   "execution_count": 68,
   "id": "ea18198e-b72d-4c1b-92a0-9a261b8f9ade",
   "metadata": {},
   "outputs": [],
   "source": [
    "with open(\"input.txt\", \"r\") as file:\n",
    "    lines = file.readlines()\n",
    "\n",
    "lines = [line for line in lines if line.strip()]\n",
    "\n",
    "with open(\"input.txt\", \"w\") as file:\n",
    "    file.writelines(lines)"
   ]
  },
  {
   "cell_type": "markdown",
   "id": "660e68f7-2e62-42c4-8ad7-507c6a02cd7b",
   "metadata": {},
   "source": [
    "### Exercise 32:\n",
    "Open a file `\"config.txt\"` in both read and write mode."
   ]
  },
  {
   "cell_type": "code",
   "execution_count": 69,
   "id": "ada60e95-0b25-4974-82b2-af77cfab6832",
   "metadata": {},
   "outputs": [],
   "source": [
    "with open(\"config.txt\", \"r+\") as file:\n",
    "    content = file.read()\n",
    "    file.write(\"\\n\")"
   ]
  },
  {
   "cell_type": "markdown",
   "id": "f3a549a9-2d78-450e-9512-3697801467a3",
   "metadata": {},
   "source": [
    "### Exercise 33:\n",
    "Write a Python function that reads a file and prints the longest line in the file."
   ]
  },
  {
   "cell_type": "code",
   "execution_count": 72,
   "id": "675b5037-6d8a-4a3e-bbd5-87a2e4a152d6",
   "metadata": {},
   "outputs": [
    {
     "name": "stdout",
     "output_type": "stream",
     "text": [
      "The file is empty\n"
     ]
    }
   ],
   "source": [
    "def longest_line(filename):\n",
    "    with open(filename, \"r\") as file:\n",
    "        lines = file.readlines()\n",
    "    if lines:\n",
    "        print(max(lines, key=len))\n",
    "    else:\n",
    "        print(\"The file is empty\")\n",
    "\n",
    "longest_line(\"example.txt\")"
   ]
  },
  {
   "cell_type": "markdown",
   "id": "f623470d-49df-4db9-981a-232e631eafbf",
   "metadata": {},
   "source": [
    "### Exercise 34:\n",
    "Write a Python script to count the frequency of each letter in a text file `\"message.txt\"`."
   ]
  },
  {
   "cell_type": "code",
   "execution_count": 75,
   "id": "e6957600-fae5-4a6a-9f0d-c548d39bea68",
   "metadata": {},
   "outputs": [
    {
     "name": "stdout",
     "output_type": "stream",
     "text": [
      "Counter()\n"
     ]
    }
   ],
   "source": [
    "from collections import Counter\n",
    "\n",
    "with open(\"message.txt\", \"r\") as file:\n",
    "    content = file.read().lower()\n",
    "\n",
    "letter_counts = Counter(c for c in content if c.isalpha())\n",
    "\n",
    "print(letter_counts)"
   ]
  },
  {
   "cell_type": "markdown",
   "id": "e0cab6be-8dac-4bc8-b417-11dbb56f8072",
   "metadata": {},
   "source": [
    "### Exercise 35:\n",
    "Write a Python script that reads a file and prints the total number of characters, excluding spaces."
   ]
  },
  {
   "cell_type": "code",
   "execution_count": 76,
   "id": "6eab48ae-6f09-4e24-a66d-d0a7f621ec85",
   "metadata": {},
   "outputs": [
    {
     "name": "stdout",
     "output_type": "stream",
     "text": [
      "0\n"
     ]
    }
   ],
   "source": [
    "with open(\"input.txt\", \"r\") as file:\n",
    "    content = file.read()\n",
    "\n",
    "num_chars = len(content.replace(\" \", \"\"))\n",
    "print(num_chars)"
   ]
  },
  {
   "cell_type": "markdown",
   "id": "baebb042-c068-4a65-bfb9-f19605c68d3a",
   "metadata": {},
   "source": [
    "### Exercise 36:\n",
    "Create a Python script to check whether a file is empty or not."
   ]
  },
  {
   "cell_type": "code",
   "execution_count": 77,
   "id": "ca4c6708-4b18-4637-8131-1feb9a54c510",
   "metadata": {},
   "outputs": [
    {
     "name": "stdout",
     "output_type": "stream",
     "text": [
      "The file is empty or does not exist\n"
     ]
    }
   ],
   "source": [
    "import os\n",
    "\n",
    "file_path = \"file.txt\"\n",
    "\n",
    "if os.path.exists(file_path) and os.path.getsize(file_path) > 0:\n",
    "    print(\"The file is not empty\")\n",
    "else:\n",
    "    print(\"The file is empty or does not exist\")"
   ]
  },
  {
   "cell_type": "markdown",
   "id": "253eb205-95f1-4ed2-8ada-d9afb7c08bbb",
   "metadata": {},
   "source": [
    "### Exercise 37:\n",
    "Write a Python function that reads a file and removes all punctuation marks from the text."
   ]
  },
  {
   "cell_type": "code",
   "execution_count": 80,
   "id": "ba83da28-79fe-47a6-888a-11ceb82382d7",
   "metadata": {},
   "outputs": [],
   "source": [
    "import string\n",
    "\n",
    "def remove_punctuation(filename):\n",
    "    with open(filename, \"r\") as file:\n",
    "        content = file.read()\n",
    "    content = content.translate(str.maketrans('', '', string.punctuation))\n",
    "    with open(filename, \"w\") as file:\n",
    "        file.write(content)\n",
    "\n",
    "remove_punctuation(\"text.txt\")"
   ]
  },
  {
   "cell_type": "markdown",
   "id": "fb4060f7-782f-4aee-8c3f-ec770d6da5bd",
   "metadata": {},
   "source": [
    "### Exercise 38:\n",
    "Create a Python function that writes a list of strings to a file, each string on a new line."
   ]
  },
  {
   "cell_type": "code",
   "execution_count": 81,
   "id": "2f406aa4-2c76-4eb7-ab2d-61fc07959c2a",
   "metadata": {},
   "outputs": [],
   "source": [
    "def write_list_to_file(strings, filename):\n",
    "    with open(filename, \"w\") as file:\n",
    "        for s in strings:\n",
    "            file.write(s + \"\\n\")\n",
    "\n",
    "my_list = [\"apple\", \"banana\", \"cherry\"]\n",
    "write_list_to_file(my_list, \"output.txt\")"
   ]
  },
  {
   "cell_type": "markdown",
   "id": "9522d619-59fe-4b46-ba28-07676f2cb22a",
   "metadata": {},
   "source": [
    "### Exercise 39:\n",
    "Write a Python script to count the number of lines that start with a specific letter (e.g., \"A\") in a text file."
   ]
  },
  {
   "cell_type": "code",
   "execution_count": 82,
   "id": "ddce80ee-4e9a-44dd-b01e-886cc3d98544",
   "metadata": {},
   "outputs": [
    {
     "name": "stdout",
     "output_type": "stream",
     "text": [
      "0\n"
     ]
    }
   ],
   "source": [
    "letter = \"A\"\n",
    "count = 0\n",
    "\n",
    "with open(\"input.txt\", \"r\") as file:\n",
    "    for line in file:\n",
    "        if line.startswith(letter):\n",
    "            count += 1\n",
    "\n",
    "print(count)"
   ]
  },
  {
   "cell_type": "markdown",
   "id": "107b70aa-883a-4a01-8945-79281e706340",
   "metadata": {},
   "source": [
    "### Exercise 40:\n",
    "Write a Python function that takes a string as input and writes it to a file `\"output.txt\"` in reverse order."
   ]
  },
  {
   "cell_type": "code",
   "execution_count": 83,
   "id": "05ff3df1-5026-4ceb-bc15-10e1bd572276",
   "metadata": {},
   "outputs": [],
   "source": [
    "def write_reverse(text):\n",
    "    with open(\"output.txt\", \"w\") as file:\n",
    "        file.write(text[::-1])\n",
    "\n",
    "write_reverse(\"Hello, World!\")"
   ]
  },
  {
   "cell_type": "markdown",
   "id": "069f3abf-74e4-4f5b-b4a0-c7420545192c",
   "metadata": {},
   "source": [
    "### Exercise 41:\n",
    "Write a Python script that reads a file and prints all the lines that contain the word `\"Python\"`."
   ]
  },
  {
   "cell_type": "code",
   "execution_count": 84,
   "id": "85709701-5a5e-4615-b8e2-250f20514778",
   "metadata": {},
   "outputs": [],
   "source": [
    "with open(\"input.txt\", \"r\") as file:\n",
    "    for line in file:\n",
    "        if \"Python\" in line:\n",
    "            print(line.strip())"
   ]
  },
  {
   "cell_type": "markdown",
   "id": "79a343ba-61fb-44ab-ac74-470a98e20fbc",
   "metadata": {},
   "source": [
    "### Exercise 42:\n",
    "Write a Python script that opens a file and removes all numeric digits from the file's content."
   ]
  },
  {
   "cell_type": "code",
   "execution_count": 85,
   "id": "1ee468c3-171d-4d92-95c7-f5405515ec90",
   "metadata": {},
   "outputs": [],
   "source": [
    "with open(\"input.txt\", \"r\") as file:\n",
    "    content = file.read()\n",
    "\n",
    "content = ''.join(c for c in content if not c.isdigit())\n",
    "\n",
    "with open(\"input.txt\", \"w\") as file:\n",
    "    file.write(content)"
   ]
  },
  {
   "cell_type": "markdown",
   "id": "58a8b147-615a-4390-a089-fb1cce4f9a97",
   "metadata": {},
   "source": [
    "### Exercise 43:\n",
    "Write a Python script to find the most frequent word in a text file `\"book.txt\"`."
   ]
  },
  {
   "cell_type": "code",
   "execution_count": 89,
   "id": "5988e7f8-aac1-4a56-8df7-05c9a68438e1",
   "metadata": {},
   "outputs": [
    {
     "name": "stdout",
     "output_type": "stream",
     "text": [
      "The file is empty\n"
     ]
    }
   ],
   "source": [
    "from collections import Counter\n",
    "\n",
    "with open(\"book.txt\", \"r\") as file:\n",
    "    words = file.read().lower().split()\n",
    "\n",
    "if words:\n",
    "    word_counts = Counter(words)\n",
    "    most_common_word, frequency = word_counts.most_common(1)[0]\n",
    "    print(most_common_word, frequency)\n",
    "else:\n",
    "    print(\"The file is empty\")"
   ]
  },
  {
   "cell_type": "markdown",
   "id": "ecd2364f-85db-4c45-826b-d89035902208",
   "metadata": {},
   "source": [
    "### Exercise 44:\n",
    "Write a Python script that reads a file and prints all the lines that contain exactly 5 words."
   ]
  },
  {
   "cell_type": "code",
   "execution_count": 90,
   "id": "4fb44355-4b93-4585-ab11-ee0ee85c0b4e",
   "metadata": {},
   "outputs": [],
   "source": [
    "with open(\"input.txt\", \"r\") as file:\n",
    "    for line in file:\n",
    "        if len(line.split()) == 5:\n",
    "            print(line.strip())"
   ]
  },
  {
   "cell_type": "markdown",
   "id": "ea49ec10-7bb4-42a3-a619-3c776949c9c5",
   "metadata": {},
   "source": [
    "### Exercise 45:\n",
    "Write a Python script to read a file and print the first and last line of the file."
   ]
  },
  {
   "cell_type": "code",
   "execution_count": 91,
   "id": "3f049d09-12aa-45fc-8f44-9f792d8c2c01",
   "metadata": {},
   "outputs": [],
   "source": [
    "with open(\"input.txt\", \"r\") as file:\n",
    "    lines = file.readlines()\n",
    "\n",
    "if lines:\n",
    "    print(\"First line:\", lines[0].strip())\n",
    "    print(\"Last line:\", lines[-1].strip())"
   ]
  },
  {
   "cell_type": "markdown",
   "id": "0e560767-7d29-4fb1-a676-5a425dc75174",
   "metadata": {},
   "source": [
    "### Exercise 46:\n",
    "Write a Python script that checks if a file `\"students.txt\"` is writable."
   ]
  },
  {
   "cell_type": "code",
   "execution_count": 92,
   "id": "782090b2-ce83-43e4-897b-05f9ffa00fe9",
   "metadata": {},
   "outputs": [
    {
     "name": "stdout",
     "output_type": "stream",
     "text": [
      "The file is writable\n"
     ]
    }
   ],
   "source": [
    "file_path = \"students.txt\"\n",
    "\n",
    "try:\n",
    "    with open(file_path, \"a\"):\n",
    "        print(\"The file is writable\")\n",
    "except IOError:\n",
    "    print(\"The file is not writable\")"
   ]
  },
  {
   "cell_type": "markdown",
   "id": "cfa6664a-ae85-4215-80e0-43f67f0f5945",
   "metadata": {},
   "source": [
    "### Exercise 47:\n",
    "Create a Python function that opens a file and returns the number of unique words in the file."
   ]
  },
  {
   "cell_type": "code",
   "execution_count": 93,
   "id": "f885ca43-f68b-4550-a93c-bfc1fa1e3065",
   "metadata": {},
   "outputs": [
    {
     "name": "stdout",
     "output_type": "stream",
     "text": [
      "0\n"
     ]
    }
   ],
   "source": [
    "def unique_words_count(filename):\n",
    "    with open(filename, \"r\") as file:\n",
    "        words = file.read().split()\n",
    "    return len(set(words))\n",
    "\n",
    "count = unique_words_count(\"input.txt\")\n",
    "print(count)"
   ]
  },
  {
   "cell_type": "markdown",
   "id": "017ea433-923c-4962-8974-012c1ca3514a",
   "metadata": {},
   "source": [
    "### Exercise 48:\n",
    "Write a Python script that reads a file and prints all lines in reverse order."
   ]
  },
  {
   "cell_type": "code",
   "execution_count": 94,
   "id": "30514a90-7d16-46ca-b702-39aa7f5f59a6",
   "metadata": {},
   "outputs": [],
   "source": [
    "with open(\"input.txt\", \"r\") as file:\n",
    "    lines = file.readlines()\n",
    "\n",
    "for line in reversed(lines):\n",
    "    print(line.strip())"
   ]
  },
  {
   "cell_type": "markdown",
   "id": "88a393b5-37f0-476e-9a58-64e19678f942",
   "metadata": {},
   "source": [
    "### Exercise 49:\n",
    "Write a Python function that reads a file and returns the most common letter in the text."
   ]
  },
  {
   "cell_type": "code",
   "execution_count": 96,
   "id": "b0fa8e07-a7f1-46ce-9625-7f822634d8a7",
   "metadata": {},
   "outputs": [
    {
     "name": "stdout",
     "output_type": "stream",
     "text": [
      "The file is empty or contains no letters\n"
     ]
    }
   ],
   "source": [
    "from collections import Counter\n",
    "\n",
    "def most_common_letter(filename):\n",
    "    with open(filename, \"r\") as file:\n",
    "        content = file.read().lower()\n",
    "    letters = [c for c in content if c.isalpha()]\n",
    "    if letters:\n",
    "        return Counter(letters).most_common(1)[0]\n",
    "    else:\n",
    "        return None, 0\n",
    "\n",
    "letter, count = most_common_letter(\"input.txt\")\n",
    "if letter:\n",
    "    print(letter, count)\n",
    "else:\n",
    "    print(\"The file is empty or contains no letters\")"
   ]
  },
  {
   "cell_type": "markdown",
   "id": "2985acf1-b432-43df-979e-e19e41711ecc",
   "metadata": {},
   "source": [
    "### Exercise 50:\n",
    "Write a Python script that reads a file and replaces every occurrence of `\"Python\"` with `\"Java\"`."
   ]
  },
  {
   "cell_type": "code",
   "execution_count": 97,
   "id": "423bf470-0f72-442f-8c46-ae8c5fbebcaf",
   "metadata": {},
   "outputs": [],
   "source": [
    "with open(\"input.txt\", \"r\") as file:\n",
    "    content = file.read()\n",
    "\n",
    "content = content.replace(\"Python\", \"Java\")\n",
    "\n",
    "with open(\"input.txt\", \"w\") as file:\n",
    "    file.write(content)"
   ]
  }
 ],
 "metadata": {
  "colab": {
   "provenance": []
  },
  "kernelspec": {
   "display_name": "Python [conda env:base] *",
   "language": "python",
   "name": "conda-base-py"
  },
  "language_info": {
   "codemirror_mode": {
    "name": "ipython",
    "version": 3
   },
   "file_extension": ".py",
   "mimetype": "text/x-python",
   "name": "python",
   "nbconvert_exporter": "python",
   "pygments_lexer": "ipython3",
   "version": "3.13.5"
  }
 },
 "nbformat": 4,
 "nbformat_minor": 5
}
