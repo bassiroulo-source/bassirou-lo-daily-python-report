{
 "cells": [
  {
   "cell_type": "markdown",
   "id": "426486dd",
   "metadata": {
    "id": "426486dd"
   },
   "source": [
    "\n",
    "\n",
    "# Practical_1: Variables and Assignments"
   ]
  },
  {
   "cell_type": "code",
   "execution_count": null,
   "id": "4cbdba01-a435-47f0-88f9-f6c97211c793",
   "metadata": {
    "id": "9fb19f0d",
    "jp-MarkdownHeadingCollapsed": true
   },
   "outputs": [],
   "source": [
    "----\n",
    "\n",
    "### Exercise 1:\n",
    "Declare a variable `x` and assign it the value `10`.\n",
    "\n",
    "```python\n",
    "# Exercise 1\n",
    "```\n",
    "x=10\n",
    "\n",
    "---\n",
    "\n",
    "### Exercise 2:\n",
    "Assign the value `True` to a variable called `is_valid`.\n",
    "\n",
    "```python\n",
    "# Exercise 2\n",
    "```\n",
    "is_valid=True\n",
    "---\n",
    "\n",
    "### Exercise 3:\n",
    "Create a string variable `name` with the value \"Python Programming\".\n",
    "\n",
    "```python\n",
    "# Exercise 3\n",
    "```\n",
    "name=\"Python Programming\"\n",
    "---\n",
    "\n",
    "### Exercise 4:\n",
    "Assign the result of `5 + 3` to a variable `sum_result`.\n",
    "\n",
    "```python\n",
    "# Exercise 4\n",
    "```\n",
    "sum_result=5+3\n",
    "---\n",
    "\n",
    "### Exercise 5:\n",
    "Assign multiple variables in one line: `a = 5`, `b = 10`, `c = 15`.\n",
    "\n",
    "```python\n",
    "# Exercise 5\n",
    "```\n",
    "a=5\n",
    "b=10\n",
    "c=15\n",
    "---\n",
    "\n",
    "### Exercise 6:\n",
    "Assign the value of one variable `x` to another variable `y`.\n",
    "\n",
    "```python\n",
    "# Exercise 6\n",
    "```\n",
    "x=23\n",
    "y=45\n",
    "---\n",
    "\n",
    "### Exercise 7:\n",
    "Assign a floating-point number `9.8` to a variable `gravity`.\n",
    "\n",
    "```python\n",
    "# Exercise 7\n",
    "```\n",
    "gravity=9.8\n",
    "---\n",
    "\n",
    "### Exercise 8:\n",
    "Create a variable `country` and assign it the string value of your favorite country.\n",
    "\n",
    "```python\n",
    "# Exercise 8\n",
    "```\n",
    "country=\"Senegal\"\n",
    "---\n",
    "\n",
    "### Exercise 9:\n",
    "Change the value of variable `age` from `25` to `26` in two separate steps.\n",
    "\n",
    "```python\n",
    "# Exercise 9\n",
    "```\n",
    "\n",
    "---\n",
    "\n",
    "### Exercise 10:\n",
    "Use one variable to store the result of subtracting two numbers `20 - 7`.\n",
    "\n",
    "```python\n",
    "# Exercise 10\n",
    "```\n",
    "\n",
    "---\n",
    "\n",
    "### Exercise 11:\n",
    "Assign an integer value and a floating-point value to two different variables.\n",
    "\n",
    "```python\n",
    "# Exercise 11\n",
    "```\n",
    "\n",
    "---\n",
    "\n",
    "### Exercise 12:\n",
    "Assign a boolean value `False` to a variable `is_completed`.\n",
    "\n",
    "```python\n",
    "# Exercise 12\n",
    "```\n",
    "\n",
    "---\n",
    "\n",
    "### Exercise 13:\n",
    "Swap the values of two variables `x` and `y`.\n",
    "\n",
    "```python\n",
    "# Exercise 13\n",
    "```\n",
    "\n",
    "---\n",
    "\n",
    "### Exercise 14:\n",
    "Assign a complex number `3 + 4j` to a variable `complex_num`.\n",
    "\n",
    "```python\n",
    "# Exercise 14\n",
    "```\n",
    "\n",
    "---\n",
    "\n",
    "### Exercise 15:\n",
    "Reassign a variable from an integer to a string.\n",
    "\n",
    "```python\n",
    "# Exercise 15\n",
    "```\n",
    "\n",
    "---\n",
    "\n",
    "### Exercise 16:\n",
    "Create two variables `first_name` and `last_name`, and assign them your first and last names.\n",
    "\n",
    "```python\n",
    "# Exercise 16\n",
    "```\n",
    "\n",
    "---\n",
    "\n",
    "### Exercise 17:\n",
    "Create a variable `temperature` and assign it the value of `35.5`.\n",
    "\n",
    "```python\n",
    "# Exercise 17\n",
    "```\n",
    "\n",
    "---\n",
    "\n",
    "### Exercise 18:\n",
    "Assign the result of the multiplication of two numbers `8 * 6` to a variable `product`.\n",
    "\n",
    "```python\n",
    "# Exercise 18\n",
    "```\n",
    "\n",
    "---\n",
    "\n",
    "### Exercise 19:\n",
    "Assign a sentence of your choice to a variable `sentence`.\n",
    "\n",
    "```python\n",
    "# Exercise 19\n",
    "```\n",
    "\n",
    "---\n",
    "\n",
    "### Exercise 20:\n",
    "Use an assignment to convert a string `'50'` into an integer variable `int_value`.\n",
    "\n",
    "```python\n",
    "# Exercise 20\n",
    "```\n",
    "\n",
    "---\n",
    "\n",
    "### Exercise 21:\n",
    "Assign the result of dividing `144` by `12` to a variable `quotient`.\n",
    "\n",
    "```python\n",
    "# Exercise 21\n",
    "```\n",
    "\n",
    "---\n",
    "\n",
    "### Exercise 22:\n",
    "Assign the remainder of `47 divided by 5` to a variable `remainder`.\n",
    "\n",
    "```python\n",
    "# Exercise 22\n",
    "```\n",
    "\n",
    "---\n",
    "\n",
    "### Exercise 23:\n",
    "Create a variable `is_student` and assign it the value `True`.\n",
    "\n",
    "```python\n",
    "# Exercise 23\n",
    "```\n",
    "\n",
    "---\n",
    "\n",
    "### Exercise 24:\n",
    "Use a variable to store the result of a modulo operation: `45 % 4`.\n",
    "\n",
    "```python\n",
    "# Exercise 24\n",
    "```\n",
    "\n",
    "---\n",
    "\n",
    "### Exercise 25:\n",
    "Create a variable `pi` and assign it the value `3.14159`.\n",
    "\n",
    "```python\n",
    "# Exercise 25\n",
    "```\n",
    "\n",
    "---\n",
    "\n",
    "### Exercise 26:\n",
    "Create two variables `length` and `width`, assign them values, and calculate the area of a rectangle.\n",
    "\n",
    "```python\n",
    "# Exercise 26\n",
    "```\n",
    "\n",
    "---\n",
    "\n",
    "### Exercise 27:\n",
    "Assign a negative number to a variable `negative_value`.\n",
    "\n",
    "```python\n",
    "# Exercise 27\n",
    "```\n",
    "\n",
    "---\n",
    "\n",
    "### Exercise 28:\n",
    "Assign a string containing a special character (e.g., \"Hello, World!\") to a variable `greeting`.\n",
    "\n",
    "```python\n",
    "# Exercise 28\n",
    "```\n",
    "\n",
    "---\n",
    "\n",
    "### Exercise 29:\n",
    "Create a variable `population` and assign it a large integer value (in billions).\n",
    "\n",
    "```python\n",
    "# Exercise 29\n",
    "```\n",
    "\n",
    "---\n",
    "\n",
    "### Exercise 30:\n",
    "Use a variable to store the result of raising `2` to the power of `8`.\n",
    "\n",
    "```python\n",
    "# Exercise 30\n",
    "```\n",
    "\n",
    "---\n",
    "\n",
    "### Exercise 31:\n",
    "Assign a list of your favorite fruits to a variable `fruits`.\n",
    "\n",
    "```python\n",
    "# Exercise 31\n",
    "```\n",
    "\n",
    "---\n",
    "\n",
    "### Exercise 32:\n",
    "Assign a tuple of three numbers to a variable `coordinates`.\n",
    "\n",
    "```python\n",
    "# Exercise 32\n",
    "```\n",
    "\n",
    "---\n",
    "\n",
    "### Exercise 33:\n",
    "Assign a dictionary with keys `name` and `age` to a variable `person`.\n",
    "\n",
    "```python\n",
    "# Exercise 33\n",
    "```\n",
    "\n",
    "---\n",
    "\n",
    "### Exercise 34:\n",
    "Use variables to store the sum of two floating-point numbers.\n",
    "\n",
    "```python\n",
    "# Exercise 34\n",
    "```\n",
    "\n",
    "---\n",
    "\n",
    "### Exercise 35:\n",
    "Create a variable `is_sunny` and assign it the result of a comparison `10 > 5`.\n",
    "\n",
    "```python\n",
    "# Exercise 35\n",
    "```\n",
    "\n",
    "---\n",
    "\n",
    "### Exercise 36:\n",
    "Assign a string and an integer to two different variables, then print both on one line.\n",
    "\n",
    "```python\n",
    "# Exercise 36\n",
    "```\n",
    "\n",
    "---\n",
    "\n",
    "### Exercise 37:\n",
    "Reassign a variable that originally held a number to a boolean value.\n",
    "\n",
    "```python\n",
    "# Exercise 37\n",
    "```\n",
    "\n",
    "---\n",
    "\n",
    "### Exercise 38:\n",
    "Create a variable `is_weekend` and assign it the result of `False`.\n",
    "\n",
    "```python\n",
    "# Exercise 38\n",
    "```\n",
    "\n",
    "---\n",
    "\n",
    "### Exercise 39:\n",
    "Assign a multi-line string to a variable `description`.\n",
    "\n",
    "```python\n",
    "# Exercise 39\n",
    "```\n",
    "\n",
    "---\n",
    "\n",
    "### Exercise 40:\n",
    "Use variables to store the result of the absolute value of `-25`.\n",
    "\n",
    "```python\n",
    "# Exercise 40\n",
    "```\n",
    "\n",
    "---\n",
    "\n",
    "### Exercise 41:\n",
    "Assign the result of a floor division `100 // 6` to a variable `floor_div_result`.\n",
    "\n",
    "```python\n",
    "# Exercise 41\n",
    "```\n",
    "\n",
    "---\n",
    "\n",
    "### Exercise 42:\n",
    "Assign the result of adding a floating-point number to an integer to a variable `mixed_sum`.\n",
    "\n",
    "```python\n",
    "# Exercise 42\n",
    "```\n",
    "\n",
    "---\n",
    "\n",
    "\n",
    "### Exercise 43:\n",
    "Assign a boolean value based on the comparison of two variables `a = 10` and `b = 15`.\n",
    "\n",
    "```python\n",
    "# Exercise 43\n",
    "```\n",
    "\n",
    "---\n",
    "\n",
    "### Exercise 44:\n",
    "Assign a long sentence to a variable and count its characters using `len()`.\n",
    "\n",
    "```python\n",
    "# Exercise 44\n",
    "```\n",
    "\n",
    "---\n",
    "\n",
    "### Exercise 45:\n",
    "Assign a fractional result `7 / 3` to a variable `division_result`.\n",
    "\n",
    "```python\n",
    "# Exercise 45\n",
    "```\n",
    "\n",
    "---\n",
    "\n",
    "### Exercise 46:\n",
    "Create a variable `speed` and assign it the value of 100 kilometers per hour.\n",
    "\n",
    "```python\n",
    "# Exercise 46\n",
    "```\n",
    "\n",
    "---\n",
    "\n",
    "### Exercise 47:\n",
    "Assign a multi-variable equation like `y = 3x + 5` where `x = 4` to a variable `y`.\n",
    "\n",
    "```python\n",
    "# Exercise 47\n",
    "```\n",
    "\n",
    "---\n",
    "\n",
    "### Exercise 48:\n",
    "Use variables to calculate and store the average of three numbers.\n",
    "\n",
    "```python\n",
    "# Exercise 48\n",
    "```\n",
    "\n",
    "****"
   ]
  },
  {
   "cell_type": "markdown",
   "id": "d6290da9-117d-45ca-b359-e8ba2941f1c3",
   "metadata": {},
   "source": [
    "### Exercise 1:\n",
    "Declare a variable `x` and assign it the value `10`."
   ]
  },
  {
   "cell_type": "code",
   "execution_count": 3,
   "id": "a0d788e4-0aba-49d5-9199-598039d7cb67",
   "metadata": {},
   "outputs": [],
   "source": [
    "x=10"
   ]
  },
  {
   "cell_type": "markdown",
   "id": "1a5cbe59-7708-4bfa-90a7-6cb3ac7d6fd5",
   "metadata": {},
   "source": [
    "### Exercise 2:\n",
    "Assign the value `True` to a variable called `is_valid`."
   ]
  },
  {
   "cell_type": "code",
   "execution_count": 24,
   "id": "5dccf56c-2720-4d96-9256-84433e9236e9",
   "metadata": {},
   "outputs": [],
   "source": [
    "is_valid=True"
   ]
  },
  {
   "cell_type": "markdown",
   "id": "04958b08-43f2-4fb7-9a4c-89431bc57d3e",
   "metadata": {},
   "source": [
    "### Exercise 3:\n",
    "Create a string variable `name` with the value \"Python Programming\"."
   ]
  },
  {
   "cell_type": "code",
   "execution_count": 5,
   "id": "b09cba82-468f-4b9c-ba26-62e727bf349c",
   "metadata": {},
   "outputs": [],
   "source": [
    "name=\"Python programming\""
   ]
  },
  {
   "cell_type": "code",
   "execution_count": null,
   "id": "9a1b3fcd-06ed-447a-a2a2-21f13336247c",
   "metadata": {},
   "outputs": [],
   "source": []
  },
  {
   "cell_type": "markdown",
   "id": "2e3ba191-2cc3-44f3-94d1-1d031b90646f",
   "metadata": {},
   "source": [
    "## Exercise 4:\n",
    "Assign the result of `5 + 3` to a variable `sum_result`."
   ]
  },
  {
   "cell_type": "code",
   "execution_count": null,
   "id": "c2d3a75c-08b2-4db2-b966-2d324b4485a6",
   "metadata": {},
   "outputs": [],
   "source": [
    "sum_result=5+3"
   ]
  },
  {
   "cell_type": "markdown",
   "id": "2a005ba2-1ba8-41f7-b34f-add3feb2c521",
   "metadata": {},
   "source": [
    "### Exercise 5:\n",
    "Assign multiple variables in one line: a = 5, b = 10, c = 15."
   ]
  },
  {
   "cell_type": "code",
   "execution_count": 9,
   "id": "b2d43b18-ec74-4802-8cba-f3e97a89af8b",
   "metadata": {},
   "outputs": [],
   "source": [
    "a=5; b=10; c=15"
   ]
  },
  {
   "cell_type": "markdown",
   "id": "11d3895c-6524-49ba-a3c6-2ac8be86d18c",
   "metadata": {},
   "source": [
    "### Exercise 6:\n",
    "Assign the value of one variable `x` to another variable `y`."
   ]
  },
  {
   "cell_type": "code",
   "execution_count": 1,
   "id": "9dbfb171-dcc2-443a-9a8b-d676337dde15",
   "metadata": {},
   "outputs": [],
   "source": [
    "x=\"Hello words\"\n",
    "y=x"
   ]
  },
  {
   "cell_type": "markdown",
   "id": "db2c9688-c7aa-4d0e-a1ac-b0e33152c8f7",
   "metadata": {},
   "source": [
    "### Exercise 7:\n",
    "Assign a floating-point number `9.8` to a variable `gravity`."
   ]
  },
  {
   "cell_type": "code",
   "execution_count": 12,
   "id": "45c88161-3128-41a0-a027-8598d0a8b250",
   "metadata": {},
   "outputs": [],
   "source": [
    "gravity=9.8"
   ]
  },
  {
   "cell_type": "markdown",
   "id": "d80a2fa4-62e0-4c40-8c99-892038fddbad",
   "metadata": {},
   "source": [
    "### Exercise 8:\n",
    "Create a variable `country` and assign it the string value of your favorite country."
   ]
  },
  {
   "cell_type": "code",
   "execution_count": 13,
   "id": "acac9979-1915-4093-837b-0fcc48ea09fd",
   "metadata": {},
   "outputs": [],
   "source": [
    "country='Senegal'"
   ]
  },
  {
   "cell_type": "markdown",
   "id": "9b2dd269-6092-45aa-b87d-80ec46bf0bfe",
   "metadata": {},
   "source": [
    "### Exercise 9:\n",
    "Change the value of variable `age` from `25` to `26` in two separate steps.\n"
   ]
  },
  {
   "cell_type": "code",
   "execution_count": 2,
   "id": "b4767b1d-fcc5-460a-9c6a-730594ae0a86",
   "metadata": {},
   "outputs": [
    {
     "name": "stdout",
     "output_type": "stream",
     "text": [
      "26\n"
     ]
    }
   ],
   "source": [
    "age=25\n",
    "age=26\n",
    "print(age)"
   ]
  },
  {
   "cell_type": "markdown",
   "id": "206df88f-f5d5-49b1-8178-78a35576d36f",
   "metadata": {},
   "source": [
    "### Exercise 10:\n",
    "Use one variable to store the result of subtracting two numbers `20 - 7`."
   ]
  },
  {
   "cell_type": "code",
   "execution_count": 20,
   "id": "d768213a-a25e-48fb-ace1-eb3dbcd55a08",
   "metadata": {},
   "outputs": [],
   "source": [
    "a=20\n",
    "b=7\n",
    "st=a-b"
   ]
  },
  {
   "cell_type": "markdown",
   "id": "c1d409cc-5e01-4c27-9669-53f8ccf86163",
   "metadata": {},
   "source": [
    "### Exercise 11:\n",
    "Assign an integer value and a floating-point value to two different variables."
   ]
  },
  {
   "cell_type": "code",
   "execution_count": 21,
   "id": "4ed11e31-cb81-48fc-8652-cfda582937c0",
   "metadata": {},
   "outputs": [],
   "source": [
    "t=34\n",
    "h=34.7"
   ]
  },
  {
   "cell_type": "markdown",
   "id": "0162eb36-030b-4d47-9986-e37daa737efc",
   "metadata": {},
   "source": [
    "### Exercise 12:\n",
    "Assign a boolean value `False` to a variable `is_completed`."
   ]
  },
  {
   "cell_type": "code",
   "execution_count": 25,
   "id": "5ca23d87-2645-4c19-ad8e-6a57ce42ecf1",
   "metadata": {},
   "outputs": [],
   "source": [
    "is_completed=False"
   ]
  },
  {
   "cell_type": "markdown",
   "id": "5374d5ba-3850-4fbf-968b-2811f470bce7",
   "metadata": {},
   "source": [
    "### Exercise 13:\n",
    "Swap the values of two variables `x` and `y`."
   ]
  },
  {
   "cell_type": "code",
   "execution_count": 26,
   "id": "72200387-298b-415d-8047-d0b3b26d0a14",
   "metadata": {},
   "outputs": [],
   "source": [
    "y=2\n",
    "x=8\n",
    "y,x=y,x"
   ]
  },
  {
   "cell_type": "markdown",
   "id": "813ad9bf-1499-4fb6-94ad-4d44ddbe49ef",
   "metadata": {},
   "source": [
    "### Exercise 14:\n",
    "Assign a complex number `3 + 4j` to a variable `complex_num`."
   ]
  },
  {
   "cell_type": "code",
   "execution_count": 27,
   "id": "7ed002b8-b0d1-49a1-ac9f-c2aadfb39827",
   "metadata": {},
   "outputs": [],
   "source": [
    "complex_num=3+4j"
   ]
  },
  {
   "cell_type": "markdown",
   "id": "b5dd9adc-18a5-4f3b-817d-b728c9a134b2",
   "metadata": {},
   "source": [
    "### Exercise 15:\n",
    "Reassign a variable from an integer to a string."
   ]
  },
  {
   "cell_type": "code",
   "execution_count": 3,
   "id": "96dd322b-e3d9-4220-8bae-9a2a11018319",
   "metadata": {},
   "outputs": [],
   "source": [
    "fr=77\n",
    "fr='Hello my Boby'"
   ]
  },
  {
   "cell_type": "markdown",
   "id": "1da69f63-89b9-4374-9afa-f02fb02c5876",
   "metadata": {},
   "source": [
    "### Exercise 16:\n",
    "Create two variables `first_name` and `last_name`, and assign them your first and last names."
   ]
  },
  {
   "cell_type": "code",
   "execution_count": 32,
   "id": "10c646a4-a16a-413b-ae7f-a13551ef74fa",
   "metadata": {},
   "outputs": [],
   "source": [
    "first_name='Bassirou'\n",
    "last_name='Lo'"
   ]
  },
  {
   "cell_type": "markdown",
   "id": "6c8b62b0-c31a-4547-ac8f-5430928a0b40",
   "metadata": {},
   "source": [
    "### Exercise 17:\n",
    "Create a variable `temperature` and assign it the value of `35.5`."
   ]
  },
  {
   "cell_type": "code",
   "execution_count": 33,
   "id": "3455e8cf-c796-4233-8e3e-f2b4cc0b0420",
   "metadata": {},
   "outputs": [],
   "source": [
    "temperature=35.5"
   ]
  },
  {
   "cell_type": "markdown",
   "id": "a1d605f3-f8fc-4cbd-8f3f-b94088e5478e",
   "metadata": {},
   "source": [
    "### Exercise 18:\n",
    "Assign the result of the multiplication of two numbers `8 * 6` to a variable `product`."
   ]
  },
  {
   "cell_type": "code",
   "execution_count": 34,
   "id": "9c9fdba8-7493-4974-be63-c14c07b8f69f",
   "metadata": {},
   "outputs": [],
   "source": [
    "product=8*6"
   ]
  },
  {
   "cell_type": "markdown",
   "id": "0c21f346-f197-4bb9-be27-43a5006c655d",
   "metadata": {},
   "source": [
    "### Exercise 19:\n",
    "Assign a sentence of your choice to a variable `sentence`."
   ]
  },
  {
   "cell_type": "code",
   "execution_count": 35,
   "id": "850738db-430a-4419-93cf-177cd3049f47",
   "metadata": {},
   "outputs": [],
   "source": [
    "sentence='Hello my kids'"
   ]
  },
  {
   "cell_type": "markdown",
   "id": "15eb8d43-b780-40ee-adc1-2fc9968cfcfe",
   "metadata": {},
   "source": [
    "### Exercise 20:\n",
    "Use an assignment to convert a string `'50'` into an integer variable `int_value`."
   ]
  },
  {
   "cell_type": "code",
   "execution_count": 4,
   "id": "2d99a3c1-6afc-47ae-b9a2-5b5ab518c1db",
   "metadata": {},
   "outputs": [],
   "source": [
    "string_value=50\n",
    "int_value=int(string_value)"
   ]
  },
  {
   "cell_type": "markdown",
   "id": "c94ec717-dac8-4775-b0e5-f68a4aee0c3d",
   "metadata": {},
   "source": [
    "### Exercise 21:\n",
    "Assign the result of dividing `144` by `12` to a variable `quotient`."
   ]
  },
  {
   "cell_type": "code",
   "execution_count": 95,
   "id": "5f75dd64-dbe3-47f6-b3ee-783856c0837a",
   "metadata": {},
   "outputs": [],
   "source": [
    "quotient=144/12"
   ]
  },
  {
   "cell_type": "markdown",
   "id": "ad2ed0c0-dacc-48d1-81e4-025f6fcf9f14",
   "metadata": {},
   "source": [
    "### Exercise 22:\n",
    "Assign the remainder of `47 divided by 5` to a variable `remainder`."
   ]
  },
  {
   "cell_type": "code",
   "execution_count": 5,
   "id": "ce808736-9bac-4633-9e25-2e11750e4898",
   "metadata": {},
   "outputs": [],
   "source": [
    "remainder= 47%5"
   ]
  },
  {
   "cell_type": "markdown",
   "id": "00129ee4-4c5d-4b59-afa0-f269c5c95ed1",
   "metadata": {},
   "source": [
    "### Exercise 23:\n",
    "Create a variable `is_student` and assign it the value `True`."
   ]
  },
  {
   "cell_type": "code",
   "execution_count": 6,
   "id": "68982752-c0f9-449e-97dc-66c242636016",
   "metadata": {},
   "outputs": [],
   "source": [
    "is_student=True"
   ]
  },
  {
   "cell_type": "markdown",
   "id": "aa6d23e0-0b37-444c-9e44-33f43ee9f853",
   "metadata": {},
   "source": [
    "### Exercise 24:\n",
    "Use a variable to store the result of a modulo operation: `45 % 4`."
   ]
  },
  {
   "cell_type": "code",
   "execution_count": 7,
   "id": "8418653a-e4f3-4e80-af37-96296709ffaa",
   "metadata": {},
   "outputs": [],
   "source": [
    "bas=45 % 4"
   ]
  },
  {
   "cell_type": "markdown",
   "id": "de759fda-df83-4c4e-b000-c4cb67fd9a1f",
   "metadata": {},
   "source": [
    "### Exercise 25:\n",
    "Create a variable `pi` and assign it the value `3.14159`."
   ]
  },
  {
   "cell_type": "code",
   "execution_count": 8,
   "id": "92ce2963-6952-4f1c-9f7e-8b28473e0dcd",
   "metadata": {},
   "outputs": [],
   "source": [
    "pi=3.14159"
   ]
  },
  {
   "cell_type": "markdown",
   "id": "c94217a3-ab29-4c9c-9a22-1c5e79e9bc77",
   "metadata": {},
   "source": [
    "### Exercise 26:\n",
    "Create two variables `length` and `width`, assign them values, and calculate the area of a rectangle."
   ]
  },
  {
   "cell_type": "code",
   "execution_count": 9,
   "id": "4b26a381-4eea-4af8-8142-97825651b0ff",
   "metadata": {},
   "outputs": [],
   "source": [
    "length=1.23\n",
    "width=0.6\n",
    "area=length*width"
   ]
  },
  {
   "cell_type": "markdown",
   "id": "edcec8ec-3c52-41cb-90b1-917a53bef768",
   "metadata": {},
   "source": [
    "### Exercise 28:\n",
    "Assign a string containing a special character (e.g., \"Hello, World!\") to a variable `greeting`."
   ]
  },
  {
   "cell_type": "code",
   "execution_count": 10,
   "id": "c67460e0-986a-4563-9cf8-38e94bed7f9d",
   "metadata": {},
   "outputs": [],
   "source": [
    "greeting='Hello, Word'"
   ]
  },
  {
   "cell_type": "markdown",
   "id": "6e18a3c4-b69b-4200-9671-a7f3112966b8",
   "metadata": {},
   "source": [
    "### Exercise 29:\n",
    "Create a variable `population` and assign it a large integer value (in billions)."
   ]
  },
  {
   "cell_type": "code",
   "execution_count": 51,
   "id": "fc044f56-49c6-493b-92dc-fa6aef9502a8",
   "metadata": {},
   "outputs": [],
   "source": [
    "population=1000000"
   ]
  },
  {
   "cell_type": "markdown",
   "id": "048ef75c-4d39-49e9-9540-a2d48d305d80",
   "metadata": {},
   "source": [
    "### Exercise 30:\n",
    "Use a variable to store the result of raising `2` to the power of `8`."
   ]
  },
  {
   "cell_type": "code",
   "execution_count": 52,
   "id": "f97ba08e-cfbd-4f04-8731-fce1996bae47",
   "metadata": {},
   "outputs": [],
   "source": [
    "g=2**8"
   ]
  },
  {
   "cell_type": "markdown",
   "id": "76778c6a-cb67-475f-9297-71e35f1d38a6",
   "metadata": {},
   "source": [
    "### Exercise 31:\n",
    "Assign a list of your favorite fruits to a variable `fruits`."
   ]
  },
  {
   "cell_type": "code",
   "execution_count": 14,
   "id": "28486bd2-3e28-4966-994b-d297281a935a",
   "metadata": {},
   "outputs": [],
   "source": [
    "list=['Orange','apple','mango, banana']"
   ]
  },
  {
   "cell_type": "markdown",
   "id": "d89ade12-f9ba-4217-b31b-2564f7406549",
   "metadata": {},
   "source": [
    "### Exercise 32:\n",
    "Assign a tuple of three numbers to a variable `coordinates`."
   ]
  },
  {
   "cell_type": "code",
   "execution_count": 13,
   "id": "bd2b1fb8-674a-4195-a23a-0b0f7427ea29",
   "metadata": {},
   "outputs": [],
   "source": [
    "tuple=(('a',433),('b',748),('c',97))"
   ]
  },
  {
   "cell_type": "markdown",
   "id": "c68feeaf-a5c3-47cd-80bf-92cad2af0e5e",
   "metadata": {},
   "source": [
    "### Exercise 33:\n",
    "Assign a dictionary with keys `name` and `age` to a variable `person`."
   ]
  },
  {
   "cell_type": "code",
   "execution_count": 17,
   "id": "fe903e6e-4f0e-4436-9859-d4d900842e17",
   "metadata": {},
   "outputs": [],
   "source": [
    "my_dict={\"name\":\"Bassirou\", \"age\":20}"
   ]
  },
  {
   "cell_type": "markdown",
   "id": "6b128814-1c66-4973-94c3-ed5dd0792bda",
   "metadata": {},
   "source": [
    "### Exercise 34:\n",
    "Use variables to store the sum of two floating-point numbers."
   ]
  },
  {
   "cell_type": "code",
   "execution_count": 59,
   "id": "012f76e5-a5f7-4cd3-af3d-4f9dcd3046cf",
   "metadata": {},
   "outputs": [],
   "source": [
    "sum=2.76+4.78"
   ]
  },
  {
   "cell_type": "code",
   "execution_count": null,
   "id": "0d0bdb32-a0c7-4978-91a1-3d836dcb6e73",
   "metadata": {},
   "outputs": [],
   "source": [
    "### Exercise 35:\n",
    "Create a variable `is_sunny` and assign it the result of a comparison `10 > 5`."
   ]
  },
  {
   "cell_type": "code",
   "execution_count": 18,
   "id": "a9a9381a-fbdb-41e5-99f9-f10f32d68a0a",
   "metadata": {},
   "outputs": [],
   "source": [
    "is_sunny=10 > 5"
   ]
  },
  {
   "cell_type": "markdown",
   "id": "615a2dc9-934f-4f90-8841-7d71b78a27cd",
   "metadata": {},
   "source": [
    "### Exercise 36:\n",
    "Assign a string and an integer to two different variables, then print both on one line."
   ]
  },
  {
   "cell_type": "code",
   "execution_count": 20,
   "id": "f45d55c3-6b63-49e7-98e8-e272fe29c86a",
   "metadata": {},
   "outputs": [],
   "source": [
    "veux=55\n",
    "b=\"veutoure\""
   ]
  },
  {
   "cell_type": "markdown",
   "id": "17dc9a20-1bb9-4aba-be81-254a4c5c4033",
   "metadata": {},
   "source": [
    "### Exercise 37:\n",
    "Reassign a variable that originally held a number to a boolean value."
   ]
  },
  {
   "cell_type": "code",
   "execution_count": 21,
   "id": "e0b1bcf8-6e68-4538-a94d-bdef0219903d",
   "metadata": {},
   "outputs": [],
   "source": [
    "b=6.56\n",
    "b=True"
   ]
  },
  {
   "cell_type": "markdown",
   "id": "7b4e9845-7cc6-421f-b6d9-0db2015fecbe",
   "metadata": {},
   "source": [
    "### Exercise 38:\n",
    "Create a variable `is_weekend` and assign it the result of `False`."
   ]
  },
  {
   "cell_type": "code",
   "execution_count": 84,
   "id": "a344891f-b6d9-4822-a4c0-3107bc6ac1d7",
   "metadata": {},
   "outputs": [],
   "source": [
    "is_weekend=False"
   ]
  },
  {
   "cell_type": "markdown",
   "id": "43e6804d-626b-4aef-9190-275435dbe666",
   "metadata": {},
   "source": [
    "### Exercise 39:\n",
    "Assign a multi-line string to a variable `description`."
   ]
  },
  {
   "cell_type": "code",
   "execution_count": 22,
   "id": "a40d0e80-29ea-4a25-ae4c-765e6baab0b1",
   "metadata": {},
   "outputs": [],
   "source": [
    "description=\"Good evening\""
   ]
  },
  {
   "cell_type": "markdown",
   "id": "bfe4b2f3-6f5f-484b-8f32-87e1496e477f",
   "metadata": {},
   "source": [
    "### Exercise 40:\n",
    "Use variables to store the result of the absolute value of `-25`."
   ]
  },
  {
   "cell_type": "code",
   "execution_count": 24,
   "id": "056b690f-76f1-4e43-b6b0-f0a87a59000f",
   "metadata": {},
   "outputs": [],
   "source": [
    "result=-25\n",
    "absolute_num=abs(result)"
   ]
  },
  {
   "cell_type": "markdown",
   "id": "d9f0fd71-07d5-4d41-9d8c-31d60ed7f0bc",
   "metadata": {},
   "source": [
    "### Exercise 41:\n",
    "Assign the result of a floor division `100 // 6` to a variable `floor_div_result`."
   ]
  },
  {
   "cell_type": "code",
   "execution_count": 89,
   "id": "48e12f76-d29f-479a-b702-62f2700e8ee7",
   "metadata": {},
   "outputs": [],
   "source": [
    "floor_div_result=100//6"
   ]
  },
  {
   "cell_type": "markdown",
   "id": "7506f3ce-94e8-49b1-9b4b-a9acca22f759",
   "metadata": {},
   "source": [
    "### Exercise 42:\n",
    "Assign the result of adding a floating-point number to an integer to a variable `mixed_sum`."
   ]
  },
  {
   "cell_type": "code",
   "execution_count": 91,
   "id": "7a421e9a-6ffc-4b84-bf64-33583ae1f044",
   "metadata": {},
   "outputs": [],
   "source": [
    "mixed_sum=300-76.7"
   ]
  },
  {
   "cell_type": "markdown",
   "id": "2d182890-953e-4fb3-b133-7eec7f53d5ae",
   "metadata": {},
   "source": [
    "### Exercise 43:\n",
    "Assign a boolean value based on the comparison of two variables `a = 10` and `b = 15`."
   ]
  },
  {
   "cell_type": "code",
   "execution_count": 25,
   "id": "605e49c1-92f7-4ef1-bcb9-0dd49927c828",
   "metadata": {},
   "outputs": [],
   "source": [
    "a=10\n",
    "b=15\n",
    "salut_A=b>a"
   ]
  },
  {
   "cell_type": "markdown",
   "id": "cf04009b-5ffd-48c3-b73a-fd91d31e03b3",
   "metadata": {},
   "source": [
    "### Exercise 44:\n",
    "Assign a long sentence to a variable and count its characters using `len()`."
   ]
  },
  {
   "cell_type": "code",
   "execution_count": 26,
   "id": "7998f678-9bec-482e-8f20-3753bc00fc55",
   "metadata": {},
   "outputs": [
    {
     "data": {
      "text/plain": [
       "18"
      ]
     },
     "execution_count": 26,
     "metadata": {},
     "output_type": "execute_result"
    }
   ],
   "source": [
    "bonj=\"salut who are you?\"\n",
    "len(bonj)"
   ]
  },
  {
   "cell_type": "code",
   "execution_count": null,
   "id": "b539ce5d-a60a-4c42-9cd7-9e49d77d7c9b",
   "metadata": {},
   "outputs": [],
   "source": [
    "### Exercise 45:\n",
    "Assign a fractional result `7 / 3` to a variable `division_result`."
   ]
  },
  {
   "cell_type": "code",
   "execution_count": 28,
   "id": "5f16ca27-4939-4068-967b-12676b939275",
   "metadata": {},
   "outputs": [],
   "source": [
    "divisin_result=7/3"
   ]
  },
  {
   "cell_type": "markdown",
   "id": "cd7b5d3d-1ffe-4158-acc1-93ad56bf8f53",
   "metadata": {},
   "source": [
    "### Exercise 46:\n",
    "Create a variable `speed` and assign it the value of 100 kilometers per hour."
   ]
  },
  {
   "cell_type": "code",
   "execution_count": 33,
   "id": "e80bc802-239d-4e24-9a29-09aa88b910c6",
   "metadata": {},
   "outputs": [
    {
     "name": "stdout",
     "output_type": "stream",
     "text": [
      "100 kilometres per hour\n"
     ]
    }
   ],
   "source": [
    "Speed_v=100 \n",
    "unit=\"kilometres per hour\"\n",
    "print(Speed_v,unit)"
   ]
  },
  {
   "cell_type": "markdown",
   "id": "c621beeb-6ccf-4eda-9f65-10f61d204bf0",
   "metadata": {},
   "source": [
    "### Exercise 47:\n",
    "Assign a multi-variable equation like `y = 3x + 5` where `x = 4` to a variable `y`."
   ]
  },
  {
   "cell_type": "code",
   "execution_count": null,
   "id": "e2e81c93-9dae-45f2-a1d2-8dcac8fdb178",
   "metadata": {},
   "outputs": [],
   "source": [
    "x=4\n",
    "y=3*x+5"
   ]
  },
  {
   "cell_type": "markdown",
   "id": "99b754ba-77a9-4e8f-96b2-c3e3296707e9",
   "metadata": {},
   "source": [
    "### Exercise 48:\n",
    "Use variables to calculate and store the average of three numbers."
   ]
  },
  {
   "cell_type": "code",
   "execution_count": 34,
   "id": "0e5218c9-f8e4-434c-b84c-2d1a2337ebbc",
   "metadata": {},
   "outputs": [],
   "source": [
    "num1 = 10\n",
    "num2 = 20\n",
    "num3 = 30\n",
    "TP= (num1 + num2 + num3) / 3"
   ]
  },
  {
   "cell_type": "code",
   "execution_count": null,
   "id": "e935317c-dd8d-4ad2-8b7b-535812d511c1",
   "metadata": {},
   "outputs": [],
   "source": []
  }
 ],
 "metadata": {
  "colab": {
   "provenance": []
  },
  "kernelspec": {
   "display_name": "Python [conda env:base] *",
   "language": "python",
   "name": "conda-base-py"
  },
  "language_info": {
   "codemirror_mode": {
    "name": "ipython",
    "version": 3
   },
   "file_extension": ".py",
   "mimetype": "text/x-python",
   "name": "python",
   "nbconvert_exporter": "python",
   "pygments_lexer": "ipython3",
   "version": "3.13.5"
  }
 },
 "nbformat": 4,
 "nbformat_minor": 5
}
