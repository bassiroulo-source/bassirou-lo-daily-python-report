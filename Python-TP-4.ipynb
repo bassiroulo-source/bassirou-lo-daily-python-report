{
 "cells": [
  {
   "cell_type": "markdown",
   "id": "d68c1dee",
   "metadata": {
    "id": "d68c1dee"
   },
   "source": [
    "# Practical_4: Flow control"
   ]
  },
  {
   "cell_type": "markdown",
   "id": "e7d3ce0f-13cd-4189-9332-3f263b7c2ea2",
   "metadata": {},
   "source": [
    "### Exercise 1:\n",
    "Write a Python program that checks if a number is positive or negative."
   ]
  },
  {
   "cell_type": "code",
   "execution_count": null,
   "id": "dbb41e00-718d-4991-a06a-40688eeb1133",
   "metadata": {},
   "outputs": [],
   "source": [
    "n= float(input(\"Enter a number: \"))\n",
    "if n > 0:\n",
    "    print(\" n is positive\")\n",
    "elif n < 0:\n",
    "    print(\"n is  negative\")\n",
    "else:\n",
    "    print(\"n is  drawn\")"
   ]
  },
  {
   "cell_type": "markdown",
   "id": "4b0011b8-3272-422d-8d3e-ecd32cd47bf3",
   "metadata": {},
   "source": [
    "### Exercise 2:\n",
    "Write a Python function that checks if a string starts with a vowel."
   ]
  },
  {
   "cell_type": "code",
   "execution_count": null,
   "id": "28c8d030-a32c-43e9-b0a0-8e1c2d92a9b4",
   "metadata": {},
   "outputs": [],
   "source": [
    "def start_vowel(s):\n",
    "    return s[0].lower() in 'qjndksn'\n",
    "\n",
    "word = input(\"Enter a string: \")\n",
    "if starts_with_vowel(word):\n",
    "    print(\"Starts with a vowel\")\n",
    "else:\n",
    "    print(\"Does not start with a vowel\")"
   ]
  },
  {
   "cell_type": "markdown",
   "id": "a05dcac1-cba6-441f-a9db-50930cb1e6a5",
   "metadata": {},
   "source": [
    "Exercise 3:\n",
    "Write a Python program that takes a list of integers and prints \"Even\" for each even number and \"Odd\" for each odd number."
   ]
  },
  {
   "cell_type": "code",
   "execution_count": 1,
   "id": "4700aae3-3275-47ac-9a31-a36cb55475ae",
   "metadata": {},
   "outputs": [
    {
     "name": "stdin",
     "output_type": "stream",
     "text": [
      "Enter numbers separated by space:  3\n"
     ]
    },
    {
     "name": "stdout",
     "output_type": "stream",
     "text": [
      "3: Odd\n"
     ]
    }
   ],
   "source": [
    "numbers = [int(x) for x in input(\"Enter numbers separated by space: \").split()]\n",
    "for num in numbers:\n",
    "    if num % 2 == 0:\n",
    "        print(f\"{num}: Even\")\n",
    "    else:\n",
    "        print(f\"{num}: Odd\")"
   ]
  },
  {
   "cell_type": "markdown",
   "id": "b5b5dbab-8343-43aa-a598-fd387d6c3c8e",
   "metadata": {},
   "source": [
    "### Exercise 4:\n",
    "Write a Python program that checks if a given year is a leap year."
   ]
  },
  {
   "cell_type": "code",
   "execution_count": null,
   "id": "2d75c2be-b447-42eb-a42d-30e6249ddba8",
   "metadata": {},
   "outputs": [],
   "source": [
    "year = int(input(\"Enter a year: \"))\n",
    "if (year % 4 == 0 and year % 100 != 0) or (year % 400 == 0):\n",
    "    print(f\"{year} is a leap year\")\n",
    "else:\n",
    "    print(f\"{year} is not a leap year\")"
   ]
  },
  {
   "cell_type": "markdown",
   "id": "223a0dd7-fcde-4de5-b757-5eb20c3abaf6",
   "metadata": {},
   "source": [
    "### Exercise 5:\n",
    "Write a Python function that checks if a number is divisible by both 3 and 5."
   ]
  },
  {
   "cell_type": "code",
   "execution_count": null,
   "id": "6a466e43-e469-4858-ac1b-39acb818259a",
   "metadata": {},
   "outputs": [],
   "source": [
    "def divisible_by_3_and_5(n):\n",
    "    return n % 3 == 0 and n % 5 == 0\n",
    "\n",
    "num = int(input(\"Enter a number: \"))\n",
    "if divisible_by_3_and_5(num):\n",
    "    print(f\"{num} is divisible by both 3 and 5\")\n",
    "else:\n",
    "    print(f\"{num} is not divisible by both 3 and 5\")"
   ]
  },
  {
   "cell_type": "markdown",
   "id": "acc9bac6-38dd-4eeb-8c82-735ab20460bb",
   "metadata": {},
   "source": [
    "### Exercise 6:\n",
    "Write a Python program that prints \"Hot\" if the temperature is above 30, \"Warm\" if it is between 15 and 30, and \"Cold\" if it is below 15."
   ]
  },
  {
   "cell_type": "code",
   "execution_count": null,
   "id": "f41f3011-9d23-44f8-822c-fcdc43d30184",
   "metadata": {},
   "outputs": [],
   "source": [
    "temp = float(input(\"Enter temperature: \"))\n",
    "if temp > 30:\n",
    "    print(\"Hot\")\n",
    "elif 15 <= temp <= 30:\n",
    "    print(\"Warm\")\n",
    "else:\n",
    "    print(\"Cold\")"
   ]
  },
  {
   "cell_type": "markdown",
   "id": "c277c6e4-0ef9-426c-98a8-eed713c937d5",
   "metadata": {},
   "source": [
    "### Exercise 7:\n",
    "Write a Python program that checks if a string contains the letter 'a'."
   ]
  },
  {
   "cell_type": "code",
   "execution_count": null,
   "id": "559318c3-f721-4e95-8506-27bd3a441c80",
   "metadata": {},
   "outputs": [],
   "source": [
    "s = input(\"Enter a string: \")\n",
    "if 'a' in s:\n",
    "    print(\"Contains 'a'\")\n",
    "else:\n",
    "    print(\"Does not contain 'a'\")"
   ]
  },
  {
   "cell_type": "code",
   "execution_count": null,
   "id": "e176b8f5-c818-4022-bce7-cdd366e639ff",
   "metadata": {},
   "outputs": [],
   "source": []
  },
  {
   "cell_type": "code",
   "execution_count": null,
   "id": "b90e6361-fcd3-4c9c-9dda-f05c45a75214",
   "metadata": {},
   "outputs": [],
   "source": [
    "def compare_numbers(a, b):\n",
    "    if a == b:\n",
    "        return \"Numbers are equal\"\n",
    "    elif a > b:\n",
    "        return f\"{a} is larger\"\n",
    "    else:\n",
    "        return f\"{b} is larger\"\n",
    "\n",
    "x = int(input(\"Enter first number: \"))\n",
    "y = int(input(\"Enter second number: \"))\n",
    "print(compare_numbers(x, y))"
   ]
  },
  {
   "cell_type": "markdown",
   "id": "d38361b5-569f-4321-af1a-f434830a3067",
   "metadata": {},
   "source": [
    "### Exercise 8:\n",
    "Write a Python function that checks if two numbers are equal, or which one is larger."
   ]
  },
  {
   "cell_type": "code",
   "execution_count": null,
   "id": "57747866-1684-4fa4-8ad5-e7cc11b75630",
   "metadata": {},
   "outputs": [],
   "source": [
    "def compare_numbers(a, b):\n",
    "    if a == b:\n",
    "        return \"Numbers are equal\"\n",
    "    elif a > b:\n",
    "        return f\"{a} is larger\"\n",
    "    else:\n",
    "        return f\"{b} is larger\"\n",
    "\n",
    "x = int(input(\"Enter first number: \"))\n",
    "y = int(input(\"Enter second number: \"))\n",
    "print(compare_numbers(x, y))"
   ]
  },
  {
   "cell_type": "markdown",
   "id": "0e222459-8204-4c90-b883-4adee78d3709",
   "metadata": {},
   "source": [
    "### Exercise 9:\n",
    "Write a Python program that checks if a list is empty.\n"
   ]
  },
  {
   "cell_type": "code",
   "execution_count": null,
   "id": "79042987-e3c6-4db0-8c96-32e06bdcaf10",
   "metadata": {},
   "outputs": [],
   "source": [
    "lst = input(\"Enter list elements separated by space: \").split()\n",
    "if not lst:\n",
    "    print(\"The list is empty\")\n",
    "else:\n",
    "    print(\"The list is not empty\")"
   ]
  },
  {
   "cell_type": "markdown",
   "id": "67b32831-8775-4cd0-827d-3f3389753484",
   "metadata": {},
   "source": [
    "### Exercise 10:\n",
    "Write a Python function that takes two strings and checks if they are anagrams.\n"
   ]
  },
  {
   "cell_type": "code",
   "execution_count": null,
   "id": "c4298011-d118-40ed-92e9-f930734eeec1",
   "metadata": {},
   "outputs": [],
   "source": [
    "def are_anagrams(str1, str2):\n",
    "    return sorted(str1.replace(\" \", \"\").lower()) == sorted(str2.replace(\" \", \"\").lower())\n",
    "\n",
    "s1 = input(\"Enter first string: \")\n",
    "s2 = input(\"Enter second string: \")\n",
    "if are_anagrams(s1, s2):\n",
    "    print(\"The strings are anagrams\")\n",
    "else:\n",
    "    print(\"The strings are not anagrams\")"
   ]
  },
  {
   "cell_type": "markdown",
   "id": "3f5d09e1-0f18-4e6a-901a-0e83c36aa914",
   "metadata": {},
   "source": [
    "### Exercise 11:\n",
    "Write a Python program that checks if a number is prime."
   ]
  },
  {
   "cell_type": "code",
   "execution_count": 2,
   "id": "45e0e6f9-4302-417d-991b-92b70dc5e4f6",
   "metadata": {},
   "outputs": [],
   "source": [
    "def numbers_prime(n):\n",
    "    if n <= 1:\n",
    "        return False\n",
    "    for i in range(2, int(n**0.5) + 1):\n",
    "        if n % i == 0:\n",
    "            return False\n",
    "    return True"
   ]
  },
  {
   "cell_type": "markdown",
   "id": "383d528e-eaf6-43b6-9623-fda39f98aa16",
   "metadata": {},
   "source": [
    "### Exercise 12:\n",
    "Write a Python program that checks if a list of numbers is sorted in ascending order."
   ]
  },
  {
   "cell_type": "code",
   "execution_count": 3,
   "id": "2654cc11-1d66-487f-b657-d2d181804b03",
   "metadata": {},
   "outputs": [],
   "source": [
    "def numbers_sorted(list_T):\n",
    "    return list_T == sorted(list_T)"
   ]
  },
  {
   "cell_type": "markdown",
   "id": "83dc1cea-4e8b-41dd-84f3-1cd2e5d4c404",
   "metadata": {},
   "source": [
    "### Exercise 13:\n",
    "Write a Python function that takes a character and checks if it is a digit."
   ]
  },
  {
   "cell_type": "code",
   "execution_count": 4,
   "id": "e536b68b-c999-4fe2-9304-e96f48f684e2",
   "metadata": {},
   "outputs": [],
   "source": [
    "def char_digit(char):\n",
    "    return char.char_digit()"
   ]
  },
  {
   "cell_type": "markdown",
   "id": "005e92f2-6297-41d8-9cf3-423629298442",
   "metadata": {},
   "source": [
    "### Exercise 14:\n",
    "Write a Python function that checks if a string contains only uppercase letters."
   ]
  },
  {
   "cell_type": "code",
   "execution_count": 6,
   "id": "eb4c88cd-fc57-4580-baef-f490c8ccb987",
   "metadata": {},
   "outputs": [],
   "source": [
    "def Only_uppercase(s):\n",
    "    return s.supper()"
   ]
  },
  {
   "cell_type": "markdown",
   "id": "872bee88-b194-46aa-a3a4-0335c35806a5",
   "metadata": {},
   "source": [
    "### Exercise 15:\n",
    "Write a Python program that checks if a number is a multiple of 10.\n"
   ]
  },
  {
   "cell_type": "code",
   "execution_count": 7,
   "id": "3ea69a9f-283e-4970-8c3f-12bf51cebc3b",
   "metadata": {},
   "outputs": [],
   "source": [
    "def multiple_10(n):\n",
    "    return n % 10 == 0"
   ]
  },
  {
   "cell_type": "markdown",
   "id": "13c0f256-2b4d-410c-8f8c-dbe081d0cfac",
   "metadata": {},
   "source": [
    "### Exercise 16:\n",
    "Write a Python function that checks if a list contains any duplicates.\n"
   ]
  },
  {
   "cell_type": "code",
   "execution_count": 8,
   "id": "ec9a0d73-abae-4a0e-b26f-f8ad0b7aab7a",
   "metadata": {},
   "outputs": [],
   "source": [
    "def has_duplicates(lst):\n",
    "    return len(lst) != len(set(lst))"
   ]
  },
  {
   "cell_type": "markdown",
   "id": "999de1c8-bd76-4261-9bf3-3591b3b4c260",
   "metadata": {},
   "source": [
    "### Exercise 17:\n",
    "Write a Python program that prints \"Teenager\" if the age is between 13 and 19, otherwise it prints \"Not a teenager.\"\n"
   ]
  },
  {
   "cell_type": "code",
   "execution_count": 9,
   "id": "dcbb018f-6af5-4489-b0e3-7285816bc774",
   "metadata": {},
   "outputs": [],
   "source": [
    "def check_age2(age):\n",
    "    if 13 <= age <= 19:\n",
    "        print(\"Teenager\")\n",
    "    else:\n",
    "        print(\"Not a teenager\")"
   ]
  },
  {
   "cell_type": "markdown",
   "id": "2ebaefab-1579-4fbd-a6bd-896d8075dcb8",
   "metadata": {},
   "source": [
    "### Exercise 18:\n",
    "Write a Python function that checks if a list contains an element greater than 100."
   ]
  },
  {
   "cell_type": "code",
   "execution_count": 10,
   "id": "7e6f82e2-49c5-40ac-a26f-78c37774d1a3",
   "metadata": {},
   "outputs": [],
   "source": [
    "def has_greater_than_100(lst):\n",
    "    return any(x > 100 for x in lst)"
   ]
  },
  {
   "cell_type": "markdown",
   "id": "644d510a-07c6-4496-96ec-1eb2511d059e",
   "metadata": {},
   "source": [
    "### Exercise 19:\n",
    "Write a Python program that checks if a number is even or odd.\n"
   ]
  },
  {
   "cell_type": "code",
   "execution_count": 11,
   "id": "04c5d07d-9e48-462a-8228-5c47b34375e6",
   "metadata": {},
   "outputs": [],
   "source": [
    "def even_odd(n):\n",
    "    if n % 2 == 0:\n",
    "        print(\"the number is Even number\")\n",
    "    else:\n",
    "        print(\"The number is Odd numbers\")"
   ]
  },
  {
   "cell_type": "markdown",
   "id": "3fe9f397-2ec7-4033-8bbb-d9b70ba9419c",
   "metadata": {},
   "source": [
    "### Exercise 20:\n",
    "Write a Python function that checks if a string ends with a punctuation mark."
   ]
  },
  {
   "cell_type": "code",
   "execution_count": 12,
   "id": "17ee617f-3317-49c2-a168-fb24a7a779a8",
   "metadata": {},
   "outputs": [],
   "source": [
    "import string\n",
    "\n",
    "def ends_with_punctuation(s):\n",
    "    return s[-1] in string.punctuation if s else False"
   ]
  },
  {
   "cell_type": "markdown",
   "id": "771517a6-b499-4e68-9bb2-f32f8a72e590",
   "metadata": {},
   "source": [
    "### Exercise 21:\n",
    "Write a Python program that prints \"Yes\" if the number is between 1 and 100, otherwise it prints \"No.\""
   ]
  },
  {
   "cell_type": "code",
   "execution_count": 14,
   "id": "edf1d43d-22b0-4041-ba43-7b596fd8fa58",
   "metadata": {},
   "outputs": [],
   "source": [
    "def check_Rang(n):\n",
    "    if 1 <= n <= 100:\n",
    "        print(\"Yes\")\n",
    "    else:\n",
    "        print(\"No\")"
   ]
  },
  {
   "cell_type": "markdown",
   "id": "8dc0429d-38c3-4c06-a088-81d53ce016ad",
   "metadata": {},
   "source": [
    "### Exercise 22:\n",
    "Write a Python program that checks if two strings have the same length."
   ]
  },
  {
   "cell_type": "code",
   "execution_count": 15,
   "id": "a444e621-79bf-4070-9a08-5407ef57caad",
   "metadata": {},
   "outputs": [],
   "source": [
    "def same_length(s1, s2):\n",
    "    return len(s1) == len(s2)"
   ]
  },
  {
   "cell_type": "markdown",
   "id": "847f8651-f064-4cf0-9d21-1c0beebd8740",
   "metadata": {},
   "source": [
    "### Exercise 23:\n",
    "Write a Python function that checks if a number is greater than its reverse.\n"
   ]
  },
  {
   "cell_type": "code",
   "execution_count": 16,
   "id": "7c66f36c-60ac-4394-bdc1-8eab68cc7826",
   "metadata": {},
   "outputs": [],
   "source": [
    "def greater_than_reverse(n):\n",
    "    reverse_n = int(str(n)[::-1])\n",
    "    return n > reverse_n"
   ]
  },
  {
   "cell_type": "markdown",
   "id": "dbc8168a-43fc-4960-a069-7ee2a14dd9b4",
   "metadata": {},
   "source": [
    "### Exercise 24:\n",
    "Write a Python program that checks if a password contains both letters and numbers.\n"
   ]
  },
  {
   "cell_type": "code",
   "execution_count": 17,
   "id": "26661723-c34a-499a-a0da-a2029d5a119c",
   "metadata": {},
   "outputs": [],
   "source": [
    "def valid_password(password):\n",
    "    has_letter = any(c.isalpha() for c in password)\n",
    "    has_digit = any(c.isdigit() for c in password)\n",
    "    return has_letter and has_digit"
   ]
  },
  {
   "cell_type": "markdown",
   "id": "d235d1bf-ea01-42ae-a160-7e16f21c2663",
   "metadata": {},
   "source": [
    "### Exercise 25:\n",
    "Write a Python program that checks if a number is between two given numbers.\n"
   ]
  },
  {
   "cell_type": "code",
   "execution_count": 18,
   "id": "1c9f88d0-c70d-4025-bbcf-18ef9bd4c9f4",
   "metadata": {},
   "outputs": [],
   "source": [
    "def between_numbers(n, low, high):\n",
    "    return low <= n <= high"
   ]
  },
  {
   "cell_type": "markdown",
   "id": "37280542-238d-4d76-a631-18bdb1a326ad",
   "metadata": {},
   "source": [
    "### Exercise 26:\n",
    "Write a Python function that checks if all characters in a string are unique.\n"
   ]
  },
  {
   "cell_type": "code",
   "execution_count": null,
   "id": "0b8eb7e6-5f16-408b-8468-d36148d03ed0",
   "metadata": {},
   "outputs": [],
   "source": [
    "def all_unique(s):\n",
    "    return len(s) == len(set(s))"
   ]
  },
  {
   "cell_type": "code",
   "execution_count": null,
   "id": "d9840f58-6f90-444b-b52e-c6e7964e6617",
   "metadata": {},
   "outputs": [],
   "source": [
    "### Exercise 27:\n",
    "Write a Python program that checks if a number is a perfect square.\n"
   ]
  },
  {
   "cell_type": "code",
   "execution_count": 19,
   "id": "9a0deb4d-f5ab-4c4a-865b-e0a2b0529b60",
   "metadata": {},
   "outputs": [],
   "source": [
    "import math\n",
    "\n",
    "def is_perfect_square(n):\n",
    "    return int(math.sqrt(n)) ** 2 == n"
   ]
  },
  {
   "cell_type": "markdown",
   "id": "a91eeb5a-cf82-4a6b-bf0f-0a08061b5b6e",
   "metadata": {},
   "source": [
    "### Exercise 28:\n",
    "Write a Python function that checks if a word is a palindrome.\n"
   ]
  },
  {
   "cell_type": "code",
   "execution_count": null,
   "id": "01ba69f5-2e01-4d60-b93d-6611b2b42657",
   "metadata": {},
   "outputs": [],
   "source": [
    "def is_palindrome(word):\n",
    "    return word == word[::-1]"
   ]
  },
  {
   "cell_type": "markdown",
   "id": "616b046d-d139-4053-b389-d6b86c79efa4",
   "metadata": {},
   "source": [
    "### Exercise 29:\n",
    "Write a Python program that prints \"Fizz\" if a number is divisible by 3, \"Buzz\" if it is divisible by 5, and \"FizzBuzz\" if divisible by both.\n"
   ]
  },
  {
   "cell_type": "code",
   "execution_count": 21,
   "id": "e6f360e2-4f7b-4f23-af9a-af1e68711312",
   "metadata": {},
   "outputs": [],
   "source": [
    "def fizz_buzz(n):\n",
    "    if n % 3 == 0 and n % 5 == 0:\n",
    "        print(\"FizzBuzz\")\n",
    "    elif n % 3 == 0:\n",
    "        print(\"Fizz\")\n",
    "    elif n % 5 == 0:\n",
    "        print(\"Buzz\")\n",
    "    else:\n",
    "        print(n)"
   ]
  },
  {
   "cell_type": "markdown",
   "id": "23a0e31e-0c1f-4882-bb1e-02eb20645744",
   "metadata": {},
   "source": [
    "### Exercise 30:\n",
    "Write a Python program that checks if the sum of the digits of a number is even.\n"
   ]
  },
  {
   "cell_type": "code",
   "execution_count": 1,
   "id": "84765f03-f0cf-4bae-a590-c3a45f4d3c67",
   "metadata": {},
   "outputs": [],
   "source": [
    "def is_sum_of_digits_even(number):\n",
    "    total = sum(int(digit) for digit in str(abs(number)))\n",
    "    return total % 2 == 0"
   ]
  },
  {
   "cell_type": "markdown",
   "id": "169acac2-807f-483b-9066-b83b7f46874a",
   "metadata": {},
   "source": [
    "### Exercise 31:\n",
    "Write a Python program that checks if a string is a valid email address.\n"
   ]
  },
  {
   "cell_type": "code",
   "execution_count": 3,
   "id": "b26a2d06-3200-409e-86fc-46a17c4093fd",
   "metadata": {},
   "outputs": [],
   "source": [
    "import re\n",
    "\n",
    "def is_valid_email(email):\n",
    "    pattern = r'^[\\w\\.-]+@[\\w\\.-]+\\.\\w+$'\n",
    "    return re.match(pattern, email) is not None"
   ]
  },
  {
   "cell_type": "markdown",
   "id": "28e5cfcc-6691-4a80-9378-3eda5f62a45b",
   "metadata": {},
   "source": [
    "### Exercise 32:\n",
    "Write a Python function that checks if a number is within 10 of 100 or 200.\n"
   ]
  },
  {
   "cell_type": "code",
   "execution_count": 4,
   "id": "26c3736b-5c18-4b2f-836e-f4b148d8cbc8",
   "metadata": {},
   "outputs": [],
   "source": [
    "def near_100_or_200(n):\n",
    "    return abs(100 - n) <= 10 or abs(200 - n) <= 10"
   ]
  },
  {
   "cell_type": "markdown",
   "id": "ed2fd2bc-13d2-45bf-a919-0ff72f1a53ee",
   "metadata": {},
   "source": [
    "### Exercise 33:\n",
    "Write a Python program that checks if a given string is a valid URL.\n"
   ]
  },
  {
   "cell_type": "code",
   "execution_count": 7,
   "id": "617f867b-04b9-4b48-bce3-3f3eb3c65eb6",
   "metadata": {},
   "outputs": [],
   "source": [
    "def is_valid_url(url):\n",
    "    return url.startswith(\"http://\") or url.startswith(\"https://\")\n"
   ]
  },
  {
   "cell_type": "markdown",
   "id": "2ae7ac41-e30d-4f1f-a256-71860e58ea59",
   "metadata": {},
   "source": [
    "### Exercise 34:\n",
    "Write a Python program that checks if a list contains all even numbers.\n"
   ]
  },
  {
   "cell_type": "code",
   "execution_count": 8,
   "id": "d1db8fc6-bd35-4771-a299-c3d66f052cc3",
   "metadata": {},
   "outputs": [],
   "source": [
    "def all_even(lst):\n",
    "    return all(x % 2 == 0 for x in lst)"
   ]
  },
  {
   "cell_type": "markdown",
   "id": "9efa9075-293e-4085-aaf5-155407322a03",
   "metadata": {},
   "source": [
    "### Exercise 35:\n",
    "Write a Python program that checks if a word is longer than a given length.\n"
   ]
  },
  {
   "cell_type": "code",
   "execution_count": 9,
   "id": "b7a6a8df-5d6b-4d0c-93c3-e5d678458af7",
   "metadata": {},
   "outputs": [],
   "source": [
    "def is_longer_than(word, length):\n",
    "    return len(word) > length"
   ]
  },
  {
   "cell_type": "markdown",
   "id": "c6b78c16-41bf-4569-9ab3-f2a66c5fe913",
   "metadata": {},
   "source": [
    "### Exercise 36:\n",
    "Write a Python program that checks if a list contains only positive numbers.\n"
   ]
  },
  {
   "cell_type": "code",
   "execution_count": 10,
   "id": "a6d0b1d3-f3eb-43b1-9353-da212090d829",
   "metadata": {},
   "outputs": [],
   "source": [
    "def all_positive(lst):\n",
    "    return all(x > 0 for x in lst)"
   ]
  },
  {
   "cell_type": "markdown",
   "id": "8cc98356-20f7-40a6-a867-f8c47a5c7f8d",
   "metadata": {},
   "source": [
    "### Exercise 37:\n",
    "Write a Python function that checks if a year is a century year (i.e., divisible by 100).\n"
   ]
  },
  {
   "cell_type": "code",
   "execution_count": 11,
   "id": "423b094a-8707-40bc-bf4f-6dfc094b033c",
   "metadata": {},
   "outputs": [],
   "source": [
    "def is_century_year(year):\n",
    "    return year % 100 == 0"
   ]
  },
  {
   "cell_type": "markdown",
   "id": "5de69719-5f42-4f2a-97bc-579a99547cbb",
   "metadata": {},
   "source": [
    "### Exercise 38:\n",
    "Write a Python program that checks if the sum of a list of numbers is greater than 100.\n"
   ]
  },
  {
   "cell_type": "code",
   "execution_count": 12,
   "id": "27953782-bc47-4258-9c76-378a09d522d0",
   "metadata": {},
   "outputs": [],
   "source": [
    "def sum_greater_than_100(lst):\n",
    "    return sum(lst) > 100"
   ]
  },
  {
   "cell_type": "markdown",
   "id": "f4308426-06b8-4cc2-ac1e-15df7f608dbd",
   "metadata": {},
   "source": [
    "### Exercise 39:\n",
    "Write a Python function that checks if a given word is a substring of another string.\n"
   ]
  },
  {
   "cell_type": "code",
   "execution_count": 13,
   "id": "0e46e186-0eb0-4ace-a76f-c633e0293f7d",
   "metadata": {},
   "outputs": [],
   "source": [
    "def is_substring(word, text):\n",
    "    return word in text"
   ]
  },
  {
   "cell_type": "markdown",
   "id": "81b86778-1eab-4110-8fad-1a9424f3569b",
   "metadata": {},
   "source": [
    "### Exercise 40:\n",
    "Write a Python program that checks if a number is a power of 2."
   ]
  },
  {
   "cell_type": "code",
   "execution_count": 14,
   "id": "65b3361b-f633-4ebf-be3a-20383b7cd5ea",
   "metadata": {},
   "outputs": [],
   "source": [
    "def is_power_of_two(n):\n",
    "    return n > 0 and (n & (n - 1)) == 0"
   ]
  },
  {
   "cell_type": "markdown",
   "id": "87fab8c1-388a-4ffa-815a-510ec9ce566d",
   "metadata": {},
   "source": [
    "### Exercise 41:\n",
    "Write a Python function that checks if a string contains no spaces.\n"
   ]
  },
  {
   "cell_type": "code",
   "execution_count": 15,
   "id": "a5f88be3-819e-464e-b632-3db97043fa71",
   "metadata": {},
   "outputs": [],
   "source": [
    "def no_spaces(s):\n",
    "    return \" \" not in s"
   ]
  },
  {
   "cell_type": "markdown",
   "id": "6cbe3438-a0a8-46a3-a7b2-028bae8768c2",
   "metadata": {},
   "source": [
    "### Exercise 42:\n",
    "Write a Python program that prints \"Yes\" if a number is divisible by both 2 and 3, otherwise it prints \"No.\"\n"
   ]
  },
  {
   "cell_type": "code",
   "execution_count": 16,
   "id": "4e042bb5-80e3-4feb-82b8-e46bc25620cd",
   "metadata": {},
   "outputs": [],
   "source": [
    "def divisible_by_2_and_3(n):\n",
    "    if n % 2 == 0 and n % 3 == 0:\n",
    "        print(\"Yes\")\n",
    "    else:\n",
    "        print(\"No\")"
   ]
  },
  {
   "cell_type": "markdown",
   "id": "6d1fec01-14bf-443b-a3ea-fd644d874af4",
   "metadata": {},
   "source": [
    "### Exercise 43:\n",
    "Write a Python program that checks if a number is a palindrome.\n"
   ]
  },
  {
   "cell_type": "code",
   "execution_count": 17,
   "id": "b82a13c2-1fd1-4866-b46a-d08807b99fad",
   "metadata": {},
   "outputs": [],
   "source": [
    "def is_palindrome_number(n):\n",
    "    return str(n) == str(n)[::-1]\n"
   ]
  },
  {
   "cell_type": "markdown",
   "id": "542953f4-1467-471f-9c62-7a0aa2ea8f7f",
   "metadata": {},
   "source": [
    "### Exercise 44:\n",
    "Write a Python function that checks if a string is made of only lowercase letters.\n"
   ]
  },
  {
   "cell_type": "code",
   "execution_count": 18,
   "id": "e353eb2a-6713-451d-a4ec-62132e307a0a",
   "metadata": {},
   "outputs": [],
   "source": [
    "def is_all_lowercase(s):\n",
    "    return s.islower()"
   ]
  },
  {
   "cell_type": "markdown",
   "id": "932d6258-cf0a-4732-bc49-6f75188c19aa",
   "metadata": {},
   "source": [
    "### Exercise 45:\n",
    "Write a Python program that checks if a string starts with a specific prefix.\n"
   ]
  },
  {
   "cell_type": "code",
   "execution_count": 19,
   "id": "6e16159d-4c48-4958-8dab-c96ea36cdad8",
   "metadata": {},
   "outputs": [],
   "source": [
    "def starts_with_prefix(s, prefix):\n",
    "    return s.startswith(prefix)"
   ]
  },
  {
   "cell_type": "markdown",
   "id": "a06f4937-a1ab-494e-89c8-ed37f38a26dc",
   "metadata": {},
   "source": [
    "### Exercise 46:\n",
    "Write a Python function that checks if a number is divisible by any number in a given list.\n"
   ]
  },
  {
   "cell_type": "code",
   "execution_count": 20,
   "id": "4de19a40-acf6-4b58-b127-04e845a55be7",
   "metadata": {},
   "outputs": [],
   "source": [
    "def divisible_by_any(n, lst):\n",
    "    return any(n % x == 0 for x in lst if x != 0)"
   ]
  },
  {
   "cell_type": "markdown",
   "id": "9f8ba669-563c-4edd-803b-2c8469f7e931",
   "metadata": {},
   "source": [
    "### Exercise 47:\n",
    "Write a Python program that prints \"Yes\" if a string has more than one occurrence of the same letter.\n"
   ]
  },
  {
   "cell_type": "code",
   "execution_count": 21,
   "id": "54f249de-3fc4-474f-bdce-8ffef3afe93b",
   "metadata": {},
   "outputs": [],
   "source": [
    "def has_duplicate_letters(s):\n",
    "    if len(s) != len(set(s)):\n",
    "        print(\"Yes\")\n",
    "    else:\n",
    "        print(\"No\")"
   ]
  },
  {
   "cell_type": "markdown",
   "id": "3ad0a2f5-9f29-49ce-b8e8-5f5825d267dc",
   "metadata": {},
   "source": [
    "### Exercise 48:\n",
    "Write a Python function that checks if a number is prime by dividing it by numbers up to its square root.\n"
   ]
  },
  {
   "cell_type": "code",
   "execution_count": 22,
   "id": "2b725469-9f7e-4388-afe3-210aee548ca6",
   "metadata": {},
   "outputs": [],
   "source": [
    "import math\n",
    "\n",
    "def is_prime_optimized(n):\n",
    "    if n <= 1:\n",
    "        return False\n",
    "    for i in range(2, int(math.sqrt(n)) + 1):\n",
    "        if n % i == 0:\n",
    "            return False\n",
    "    return True"
   ]
  },
  {
   "cell_type": "markdown",
   "id": "e892b865-88cc-43da-bd1c-9ba61f2deb01",
   "metadata": {},
   "source": [
    "### Exercise 49:\n",
    "Write a Python program that checks if a number is within 1 of a multiple of 10.\n"
   ]
  },
  {
   "cell_type": "code",
   "execution_count": 23,
   "id": "e47ba604-0a64-467a-a03d-a0f6fa6565f8",
   "metadata": {},
   "outputs": [],
   "source": [
    "def near_multiple_of_10(n):\n",
    "    return n % 10 == 1 or n % 10 == 9"
   ]
  },
  {
   "cell_type": "markdown",
   "id": "e67d941f-664b-4e73-a10e-38ab84d7f58d",
   "metadata": {},
   "source": [
    "### Exercise 50:\n",
    "Write a Python program that prints \"In range\" if a number is between 10 and 20 (inclusive), otherwise it prints \"Out of range.\""
   ]
  },
  {
   "cell_type": "code",
   "execution_count": 24,
   "id": "071e97aa-cfa0-426c-ba61-557064a8a401",
   "metadata": {},
   "outputs": [],
   "source": [
    "def check_range(n):\n",
    "    if 10 <= n <= 20:\n",
    "        print(\"In range\")\n",
    "    else:\n",
    "        print(\"Out of range\")"
   ]
  },
  {
   "cell_type": "code",
   "execution_count": null,
   "id": "417745db-de6c-456b-9633-55f5275f6a68",
   "metadata": {},
   "outputs": [],
   "source": []
  },
  {
   "cell_type": "code",
   "execution_count": null,
   "id": "625f7c86-61ca-4d47-b163-28f1f8de67ee",
   "metadata": {},
   "outputs": [],
   "source": []
  },
  {
   "cell_type": "code",
   "execution_count": null,
   "id": "1129a661-69a9-401d-aca3-a1bc3771e406",
   "metadata": {},
   "outputs": [],
   "source": []
  }
 ],
 "metadata": {
  "colab": {
   "provenance": []
  },
  "kernelspec": {
   "display_name": "Python [conda env:base] *",
   "language": "python",
   "name": "conda-base-py"
  },
  "language_info": {
   "codemirror_mode": {
    "name": "ipython",
    "version": 3
   },
   "file_extension": ".py",
   "mimetype": "text/x-python",
   "name": "python",
   "nbconvert_exporter": "python",
   "pygments_lexer": "ipython3",
   "version": "3.13.5"
  }
 },
 "nbformat": 4,
 "nbformat_minor": 5
}
