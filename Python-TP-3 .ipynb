{
 "cells": [
  {
   "cell_type": "markdown",
   "id": "d68c1dee",
   "metadata": {
    "id": "d68c1dee"
   },
   "source": [
    "# Practical_3: Iterable objects or Containers"
   ]
  },
  {
   "cell_type": "markdown",
   "id": "d0f42c79-bd6b-46e6-b7a6-303c4d6c7f66",
   "metadata": {},
   "source": [
    "### Exercise 1:\n",
    "Create a list of integers from 1 to 10."
   ]
  },
  {
   "cell_type": "code",
   "execution_count": 1,
   "id": "5105f94d-fa54-45dc-b383-2716cb248ca0",
   "metadata": {},
   "outputs": [
    {
     "name": "stdout",
     "output_type": "stream",
     "text": [
      "[1, 2, 3, 4, 5, 6, 7, 8, 9, 10]\n"
     ]
    }
   ],
   "source": [
    "list=[1,2,3,4,5,6,7,8,9,10]\n",
    "print(list)"
   ]
  },
  {
   "cell_type": "markdown",
   "id": "d4bab16a-75e9-4fc2-b3a0-3f6901a75db9",
   "metadata": {},
   "source": [
    "### Exercise 2:\n",
    "Create a tuple containing the elements `\"apple\"`, `\"banana\"`, and `\"cherry\"`."
   ]
  },
  {
   "cell_type": "code",
   "execution_count": 2,
   "id": "2efaaecb-dc8b-4b93-9fb2-8632505d4e98",
   "metadata": {},
   "outputs": [
    {
     "name": "stdout",
     "output_type": "stream",
     "text": [
      "('apple', 'banana', 'cherry')\n"
     ]
    }
   ],
   "source": [
    "Mytuple=(\"apple\", \"banana\", \"cherry\")\n",
    "print(Mytuple)"
   ]
  },
  {
   "cell_type": "markdown",
   "id": "c18befb6-5381-40b0-8dd7-ccab4322e7e2",
   "metadata": {},
   "source": [
    "### Exercise 3:\n",
    "Convert the list `numbers = [10, 20, 30, 40]` into a tuple."
   ]
  },
  {
   "cell_type": "code",
   "execution_count": 3,
   "id": "c1556918-3754-4f9c-819c-420752ccb33c",
   "metadata": {},
   "outputs": [
    {
     "name": "stdout",
     "output_type": "stream",
     "text": [
      "[10, 20, 30, 40]\n"
     ]
    }
   ],
   "source": [
    "numbers = [10, 20, 30, 40]\n",
    "Twotuple=(numbers)\n",
    "print(Twotuple)"
   ]
  },
  {
   "cell_type": "markdown",
   "id": "dc15b827-035e-498c-88d8-c2a4a284eaf5",
   "metadata": {},
   "source": [
    "### Exercise 4:\n",
    "Create a set containing the elements `1, 2, 3, 4, 5`."
   ]
  },
  {
   "cell_type": "code",
   "execution_count": 4,
   "id": "8c1a9b53-a1da-4d6b-82b6-7c1314a27fbc",
   "metadata": {},
   "outputs": [
    {
     "name": "stdout",
     "output_type": "stream",
     "text": [
      "{1, 2, 3, 4, 5}\n"
     ]
    }
   ],
   "source": [
    "A={ 1,2,3,4,5}\n",
    "print(A)"
   ]
  },
  {
   "cell_type": "markdown",
   "id": "70320ca3-0466-449d-8b8c-e2df5229a478",
   "metadata": {},
   "source": [
    "### Exercise 5:\n",
    "Create a dictionary `student` with the keys `\"name\"`, `\"age\"`, and `\"grade\"` and corresponding values `\"Alice\"`, `20`, and `\"A\"`."
   ]
  },
  {
   "cell_type": "code",
   "execution_count": 5,
   "id": "0d0a1ee1-7148-4aef-b3b0-79c65574bdfb",
   "metadata": {},
   "outputs": [
    {
     "name": "stdout",
     "output_type": "stream",
     "text": [
      "{'name': 'Bassirou', 'age': 25, 'grade': 'Master'}\n"
     ]
    }
   ],
   "source": [
    "student={'name': 'Bassirou', 'age': 25,'grade':'Master'}\n",
    "print(student)"
   ]
  },
  {
   "cell_type": "markdown",
   "id": "13f4e846-aa98-45b8-8cd3-14ee34bd3097",
   "metadata": {},
   "source": [
    "### Exercise 6:\n",
    "Access the second element of the list `[10, 20, 30, 40, 50]` using indexing.\n"
   ]
  },
  {
   "cell_type": "code",
   "execution_count": 6,
   "id": "c04b76cf-6317-4444-b6f6-b7f83bd571f1",
   "metadata": {},
   "outputs": [
    {
     "name": "stdout",
     "output_type": "stream",
     "text": [
      "[10, 20, 30, 40, 50]\n"
     ]
    }
   ],
   "source": [
    "list=[10, 20, 30, 40, 50]\n",
    "print(list)"
   ]
  },
  {
   "cell_type": "markdown",
   "id": "f2e75128-6015-4008-8def-d19922c0a62a",
   "metadata": {},
   "source": [
    "### Exercise 7:\n",
    "Change the third element of the list `fruits = [\"apple\", \"banana\", \"cherry\", \"orange\"]` to `\"mango\"`."
   ]
  },
  {
   "cell_type": "code",
   "execution_count": 7,
   "id": "d889cd5e-6fe1-4ecd-9c5b-e5368b7e4d07",
   "metadata": {},
   "outputs": [
    {
     "name": "stdout",
     "output_type": "stream",
     "text": [
      "['apple', 'banana', 'mango', 'orange']\n"
     ]
    }
   ],
   "source": [
    "fruits = [\"apple\", \"banana\", \"cherry\", \"orange\"]\n",
    "fruits[2]=\"mango\"\n",
    "print(fruits)"
   ]
  },
  {
   "cell_type": "markdown",
   "id": "d41a2952-f5bd-47cd-9dea-c5a15615b0e5",
   "metadata": {},
   "source": [
    "### Exercise 8:\n",
    "Add the number `6` to the set `numbers = {1, 2, 3, 4, 5}`.\n"
   ]
  },
  {
   "cell_type": "code",
   "execution_count": 8,
   "id": "7721355a-52ea-4779-b527-c3cdf267f396",
   "metadata": {},
   "outputs": [
    {
     "name": "stdout",
     "output_type": "stream",
     "text": [
      "{1, 2, 3, 4, 5, 6}\n"
     ]
    }
   ],
   "source": [
    "numbers = {1, 2, 3, 4, 5}\n",
    "numbers.add(6)\n",
    "print(numbers)"
   ]
  },
  {
   "cell_type": "markdown",
   "id": "3740ed4c-884f-45af-869d-d67e8f76b220",
   "metadata": {},
   "source": [
    "### Exercise 9:\n",
    "Remove the key `\"age\"` from the dictionary `person = {\"name\": \"John\", \"age\": 25, \"city\": \"New York\"}`."
   ]
  },
  {
   "cell_type": "code",
   "execution_count": 9,
   "id": "49053e53-144c-465a-a113-9b984c518dff",
   "metadata": {},
   "outputs": [
    {
     "name": "stdout",
     "output_type": "stream",
     "text": [
      "{'name': 'John', 'city': 'New York'}\n"
     ]
    }
   ],
   "source": [
    "person = {\"name\": \"John\", \"age\": 25, \"city\": \"New York\"}\n",
    "person.pop('age')\n",
    "print(person)"
   ]
  },
  {
   "cell_type": "markdown",
   "id": "532caddb-e837-4989-b1a4-da8ceb1189ae",
   "metadata": {},
   "source": [
    "### Exercise 10:\n",
    "Create a range object starting from 0 to 9."
   ]
  },
  {
   "cell_type": "code",
   "execution_count": 10,
   "id": "6bae6dee-d074-437b-b075-ec6bb4901376",
   "metadata": {},
   "outputs": [
    {
     "name": "stdout",
     "output_type": "stream",
     "text": [
      "range(0, 10)\n"
     ]
    }
   ],
   "source": [
    "numb=range(0, 10)\n",
    "print(numb)"
   ]
  },
  {
   "cell_type": "markdown",
   "id": "f7442b1a-a85f-4a05-abfc-aa5319d6b7ae",
   "metadata": {},
   "source": [
    "### Exercise 11:\n",
    "Use a list comprehension to create a list of squares of numbers from 1 to 10.\n"
   ]
  },
  {
   "cell_type": "code",
   "execution_count": 11,
   "id": "4c481f2b-bebe-4a7b-b748-a9a91c4b8726",
   "metadata": {},
   "outputs": [
    {
     "name": "stdout",
     "output_type": "stream",
     "text": [
      "[1, 4, 9, 16, 25, 36, 49, 64, 81, 100]\n"
     ]
    }
   ],
   "source": [
    "squares = [x**2 for x in range(1, 11)]\n",
    "print(squares)"
   ]
  },
  {
   "cell_type": "markdown",
   "id": "64d88696-0b81-4bc8-8ff4-531dd273273a",
   "metadata": {},
   "source": [
    "### Exercise 12:\n",
    "Create a tuple of even numbers between 2 and 10 using a tuple comprehension."
   ]
  },
  {
   "cell_type": "code",
   "execution_count": 12,
   "id": "f749d339-b2e5-4582-8da9-19a23c5b768c",
   "metadata": {},
   "outputs": [
    {
     "name": "stdout",
     "output_type": "stream",
     "text": [
      "{0, 2, 4, 6, 8, 10, 12, 14, 16, 18}\n"
     ]
    }
   ],
   "source": [
    "result = {2 * n  for n in range(10)}\n",
    "print(result)"
   ]
  },
  {
   "cell_type": "markdown",
   "id": "bd5db6b0-afb7-49a4-b97f-9312401eefb6",
   "metadata": {},
   "source": [
    "### Exercise 13:\n",
    "Use a for loop to iterate through the list `fruits = [\"apple\", \"banana\", \"cherry\"]` and print each element."
   ]
  },
  {
   "cell_type": "code",
   "execution_count": 13,
   "id": "60c47ee0-bd43-43e8-a6e4-9a47d846cfbc",
   "metadata": {},
   "outputs": [
    {
     "name": "stdout",
     "output_type": "stream",
     "text": [
      "['apple', 'banana', 'cherry']\n",
      "['apple', 'banana', 'cherry']\n",
      "['apple', 'banana', 'cherry']\n"
     ]
    }
   ],
   "source": [
    "fruits = [\"apple\", \"banana\", \"cherry\"]\n",
    "for i in fruits:\n",
    "    print(fruits)"
   ]
  },
  {
   "cell_type": "markdown",
   "id": "722ea125-12ab-43b0-a045-e63ddd71be00",
   "metadata": {},
   "source": [
    "### Exercise 14:\n",
    "Check if the value `3` exists in the set `numbers = {1, 2, 3, 4, 5}`."
   ]
  },
  {
   "cell_type": "code",
   "execution_count": 14,
   "id": "e8f94407-e595-4b02-8de8-58f96e9ea00d",
   "metadata": {},
   "outputs": [
    {
     "name": "stdout",
     "output_type": "stream",
     "text": [
      " 3 existe in the set\n"
     ]
    }
   ],
   "source": [
    "numbers = {1, 2, 3, 4, 5}\n",
    "\n",
    "if 3 in numbers:\n",
    "     print(\" 3 existe in the set\")\n",
    "else:\n",
    "     print(\" 3 does not existe in the set\")"
   ]
  },
  {
   "cell_type": "markdown",
   "id": "dec626a9-08fc-4a91-bd62-7a887ba3f620",
   "metadata": {},
   "source": [
    "### Exercise 15:\n",
    "Use the `len()` function to find the length of the tuple `numbers = (10, 20, 30)`."
   ]
  },
  {
   "cell_type": "code",
   "execution_count": 15,
   "id": "bcbd9b22-a30e-4640-aba4-87da8767c19b",
   "metadata": {},
   "outputs": [
    {
     "name": "stdout",
     "output_type": "stream",
     "text": [
      "3\n"
     ]
    }
   ],
   "source": [
    "numbers = (10, 20, 30)\n",
    "lenght=len(numbers)\n",
    "print(lenght)"
   ]
  },
  {
   "cell_type": "markdown",
   "id": "89dad5e5-df1b-46de-9d9d-728e40b464d6",
   "metadata": {},
   "source": [
    "### Exercise 16:\n",
    "Add the value `100` at the end of the list `scores = [80, 85, 90, 95]`."
   ]
  },
  {
   "cell_type": "code",
   "execution_count": 16,
   "id": "7983521a-29db-4984-b997-27d553522f92",
   "metadata": {},
   "outputs": [
    {
     "name": "stdout",
     "output_type": "stream",
     "text": [
      "[80, 85, 90, 95, 100]\n"
     ]
    }
   ],
   "source": [
    "scores = [80, 85, 90, 95]\n",
    "scores.append(100)\n",
    "print(scores)"
   ]
  },
  {
   "cell_type": "markdown",
   "id": "cdaa4189-633e-48d4-84e7-a6d3fdc1834b",
   "metadata": {},
   "source": [
    "### Exercise 17:\n",
    "Write a function that takes a list as input and returns the sum of all elements in the list."
   ]
  },
  {
   "cell_type": "code",
   "execution_count": 17,
   "id": "b079a044-1db0-4a69-9e75-0f7b5e606a54",
   "metadata": {},
   "outputs": [],
   "source": [
    "def function_list(n):\n",
    "    n=0\n",
    "    for i in n:\n",
    "        n+=i\n",
    "    return n"
   ]
  },
  {
   "cell_type": "markdown",
   "id": "a1d6effb-206f-422d-9e7d-2e9c0cefe47c",
   "metadata": {},
   "source": [
    "### Exercise 18:\n",
    "Create a set containing the unique elements of the list `numbers = [1, 2, 2, 3, 4, 4, 5]`."
   ]
  },
  {
   "cell_type": "code",
   "execution_count": 18,
   "id": "3c082a61-b6d8-4cd4-aee8-17577a449022",
   "metadata": {},
   "outputs": [
    {
     "name": "stdout",
     "output_type": "stream",
     "text": [
      "{0, 1, 2, 3, 4, 5}\n"
     ]
    }
   ],
   "source": [
    "numbers = [ n for n in range(0,6)]\n",
    "set_numbers=set(numbers)\n",
    "print(set_numbers)"
   ]
  },
  {
   "cell_type": "markdown",
   "id": "1151ad19-0666-45ae-92fc-a63218d346cf",
   "metadata": {},
   "source": [
    "### Exercise 19:\n",
    "Convert the string `\"hello\"` into a list of characters."
   ]
  },
  {
   "cell_type": "code",
   "execution_count": 19,
   "id": "0c8ac083-b207-4d59-9748-ac74f41a8ce2",
   "metadata": {},
   "outputs": [
    {
     "name": "stdout",
     "output_type": "stream",
     "text": [
      "['h', 'e', 'l', 'l', 'o']\n"
     ]
    }
   ],
   "source": [
    "if 'list' in globals():\n",
    "    del list\n",
    "text = \"hello\"\n",
    "char_list = list(text)\n",
    "print(char_list)\n"
   ]
  },
  {
   "cell_type": "markdown",
   "id": "3d992fe8-65ac-4d0a-b86c-e8330dd14e11",
   "metadata": {},
   "source": [
    "### Exercise 20:\n",
    "Write a Python function that reverses a tuple `(1, 2, 3, 4)`."
   ]
  },
  {
   "cell_type": "code",
   "execution_count": 20,
   "id": "abd60c36-1b4d-4fb1-b340-cddda8087b5e",
   "metadata": {},
   "outputs": [
    {
     "name": "stdout",
     "output_type": "stream",
     "text": [
      "(4, 3, 2, 1)\n"
     ]
    }
   ],
   "source": [
    "def revers_tuple(b):\n",
    "    return b[::-1]\n",
    "\n",
    "my_tuple = (1, 2, 3, 4)\n",
    "reversed_tuple = revers_tuple(my_tuple)  # utiliser le bon nom de fonction\n",
    "print(reversed_tuple)"
   ]
  },
  {
   "cell_type": "markdown",
   "id": "5492e9aa-ae34-4beb-99e9-170a93761ab2",
   "metadata": {},
   "source": [
    "### Exercise 21:\n",
    "Merge two dictionaries `dict1 = {\"a\": 1, \"b\": 2}` and `dict2 = {\"c\": 3, \"d\": 4}` into a single dictionary."
   ]
  },
  {
   "cell_type": "code",
   "execution_count": 21,
   "id": "5a51b11d-117e-4368-b9e2-3b67174be7e1",
   "metadata": {},
   "outputs": [
    {
     "name": "stdout",
     "output_type": "stream",
     "text": [
      "{'a': 1, 'b': 2, 'c': 3, 'd': 4}\n"
     ]
    }
   ],
   "source": [
    "dict1 = {\"a\": 1, \"b\": 2}\n",
    "dict2 = {\"c\": 3, \"d\": 4}\n",
    "\n",
    "merged_dict = dict1 | dict2\n",
    "print(merged_dict)"
   ]
  },
  {
   "cell_type": "markdown",
   "id": "a365744f-726d-4f06-9f41-98a42d44b4be",
   "metadata": {},
   "source": [
    "### Exercise 22:\n",
    "Create a dictionary where keys are numbers from 1 to 5, and values are their squares."
   ]
  },
  {
   "cell_type": "code",
   "execution_count": 22,
   "id": "e4660595-006d-42e3-a011-07fcba60911c",
   "metadata": {},
   "outputs": [
    {
     "name": "stdout",
     "output_type": "stream",
     "text": [
      "{1: 1, 2: 4, 3: 9, 4: 16, 5: 25}\n"
     ]
    }
   ],
   "source": [
    "squares_dict = {x: x**2 for x in range(1, 6)}\n",
    "print(squares_dict)"
   ]
  },
  {
   "cell_type": "markdown",
   "id": "201a80dd-f856-40f3-9072-b784f7782861",
   "metadata": {},
   "source": [
    "### Exercise 23:\n",
    "Write a Python program to iterate through a dictionary and print each key-value pair."
   ]
  },
  {
   "cell_type": "code",
   "execution_count": 23,
   "id": "e06b0467-c38d-4a3f-9626-6f85c7434acf",
   "metadata": {},
   "outputs": [
    {
     "name": "stdout",
     "output_type": "stream",
     "text": [
      "Key: a, Value: 1\n",
      "Key: b, Value: 2\n",
      "Key: c, Value: 3\n"
     ]
    }
   ],
   "source": [
    "my_dict = {\"a\": 1, \"b\": 2, \"c\": 3}\n",
    "\n",
    "for key, value in my_dict.items():\n",
    "    print(f\"Key: {key}, Value: {value}\")"
   ]
  },
  {
   "cell_type": "markdown",
   "id": "53276f5e-b8ff-4f98-aa82-c65bf3bc0963",
   "metadata": {},
   "source": [
    "### Exercise 24:\n",
    "Create a list of the first 5 letters of the alphabet using the `chr()` function."
   ]
  },
  {
   "cell_type": "code",
   "execution_count": 24,
   "id": "1e25c8bf-21f8-4592-bc4d-589be2489ab6",
   "metadata": {},
   "outputs": [
    {
     "name": "stdout",
     "output_type": "stream",
     "text": [
      "['a', 'b', 'c', 'd', 'e']\n"
     ]
    }
   ],
   "source": [
    "letters = [chr(i) for i in range(ord('a'), ord('a') + 5)]\n",
    "print(letters)"
   ]
  },
  {
   "cell_type": "markdown",
   "id": "f0f56ab7-c574-4999-8a42-52d0de3f6e94",
   "metadata": {},
   "source": [
    "### Exercise 25:\n",
    "Use the `zip()` function to combine two lists `[1, 2, 3]` and `[\"a\", \"b\", \"c\"]` into a list of tuples."
   ]
  },
  {
   "cell_type": "code",
   "execution_count": 25,
   "id": "c39c3319-dfda-42db-9fd1-b86e3b8c04c3",
   "metadata": {},
   "outputs": [
    {
     "name": "stdout",
     "output_type": "stream",
     "text": [
      "[(1, 'a'), (2, 'b'), (3, 'c')]\n"
     ]
    }
   ],
   "source": [
    "numbers = [1, 2, 3]\n",
    "letters = [\"a\", \"b\", \"c\"]\n",
    "\n",
    "combine = list(zip(numbers, letters))\n",
    "print(combine)"
   ]
  },
  {
   "cell_type": "markdown",
   "id": "b3400eb7-46fc-45e7-8e5e-134045232c72",
   "metadata": {},
   "source": [
    "### Exercise 26:\n",
    "Find the index of the value `50` in the list `[10, 20, 30, 40, 50]`.\n"
   ]
  },
  {
   "cell_type": "code",
   "execution_count": 26,
   "id": "0845b52f-fe27-4d98-958b-8f79473a159e",
   "metadata": {},
   "outputs": [
    {
     "name": "stdout",
     "output_type": "stream",
     "text": [
      "4\n"
     ]
    }
   ],
   "source": [
    " numbers=[10, 20, 30, 40, 50]\n",
    "index_50=numbers.index(50)\n",
    "print(index_50)"
   ]
  },
  {
   "cell_type": "markdown",
   "id": "8699c11e-d9af-4692-b0e2-8b21a8cc2308",
   "metadata": {},
   "source": [
    "### Exercise 27:\n",
    "Sort the list `names = [\"Alice\", \"Bob\", \"Charlie\", \"David\"]` in alphabetical order."
   ]
  },
  {
   "cell_type": "code",
   "execution_count": 27,
   "id": "677858d5-b4c5-4929-bb4e-48437a7c4fff",
   "metadata": {},
   "outputs": [
    {
     "name": "stdout",
     "output_type": "stream",
     "text": [
      "['Alice', 'Bob', 'Charlie', 'David']\n"
     ]
    }
   ],
   "source": [
    "names = [\"Alice\", \"Bob\", \"Charlie\", \"David\"]\n",
    "names.sort()\n",
    "print(names)"
   ]
  },
  {
   "cell_type": "markdown",
   "id": "eef8b318-e994-4520-9697-d11b228e5dfc",
   "metadata": {},
   "source": [
    "### Exercise 28:\n",
    "Write a Python function that takes a list of integers as input and returns the largest number."
   ]
  },
  {
   "cell_type": "code",
   "execution_count": 28,
   "id": "1329e87d-5d51-4335-8b58-cb099d57e86a",
   "metadata": {},
   "outputs": [],
   "source": [
    "def find_largest(numbers):\n",
    "    return max(numbers)"
   ]
  },
  {
   "cell_type": "markdown",
   "id": "7a4c738b-c4f5-4621-8ce1-1e7f00e71ae6",
   "metadata": {},
   "source": [
    "### Exercise 29:\n",
    "Use the `count()` method to count how many times `\"apple\"` appears in the list `fruits = [\"apple\", \"banana\", \"apple\", \"orange\"]`."
   ]
  },
  {
   "cell_type": "code",
   "execution_count": 29,
   "id": "e04eab81-a559-41b4-9ed8-55f330be6ebf",
   "metadata": {},
   "outputs": [
    {
     "name": "stdout",
     "output_type": "stream",
     "text": [
      "2\n"
     ]
    }
   ],
   "source": [
    "fruits = [\"apple\", \"banana\", \"apple\", \"orange\"]\n",
    "nombre_apple=fruits.count('apple')\n",
    "print(nombre_apple)"
   ]
  },
  {
   "cell_type": "markdown",
   "id": "c3d49a58-6494-4d37-ae63-57be47aeb87d",
   "metadata": {},
   "source": [
    "### Exercise 30:\n",
    "Create a dictionary `person` where keys are `\"name\"`, `\"age\"`, and `\"city\"`, and values are `\"Alice\"`, `25`, and `\"New York\"` respectively. Then access the value of the `\"city\"` key."
   ]
  },
  {
   "cell_type": "code",
   "execution_count": 30,
   "id": "89abaa1c-086b-4669-a3a8-d59e77935f2d",
   "metadata": {},
   "outputs": [
    {
     "name": "stdout",
     "output_type": "stream",
     "text": [
      "New York\n"
     ]
    }
   ],
   "source": [
    "diction_person={\"name\":'Alice',\"age\":25,\"city\":'New York'}\n",
    "city_value=diction_person[\"city\"]\n",
    "print(city_value)"
   ]
  },
  {
   "cell_type": "markdown",
   "id": "88e12ccc-1617-45ab-80f1-d1e7eadd7b46",
   "metadata": {},
   "source": [
    "### Exercise 31:\n",
    "Write a Python function that takes a list as input and returns a new list with all duplicates removed."
   ]
  },
  {
   "cell_type": "code",
   "execution_count": 31,
   "id": "cb078883-04bf-4a5f-a97c-e9a00cc81325",
   "metadata": {},
   "outputs": [
    {
     "ename": "NameError",
     "evalue": "name 'remove_duplicates' is not defined",
     "output_type": "error",
     "traceback": [
      "\u001b[1;31m---------------------------------------------------------------------------\u001b[0m",
      "\u001b[1;31mNameError\u001b[0m                                 Traceback (most recent call last)",
      "Cell \u001b[1;32mIn[31], line 6\u001b[0m\n\u001b[0;32m      3\u001b[0m         \u001b[38;5;28;01myield\u001b[39;00m i\u001b[38;5;241m*\u001b[39m\u001b[38;5;241m*\u001b[39m\u001b[38;5;241m2\u001b[39m\n\u001b[0;32m      5\u001b[0m my_list \u001b[38;5;241m=\u001b[39m [\u001b[38;5;241m1\u001b[39m, \u001b[38;5;241m2\u001b[39m, \u001b[38;5;241m2\u001b[39m, \u001b[38;5;241m3\u001b[39m, \u001b[38;5;241m4\u001b[39m, \u001b[38;5;241m4\u001b[39m, \u001b[38;5;241m5\u001b[39m]\n\u001b[1;32m----> 6\u001b[0m new_list \u001b[38;5;241m=\u001b[39m remove_duplicates(my_list)\n\u001b[0;32m      7\u001b[0m \u001b[38;5;28mprint\u001b[39m(new_list)\n",
      "\u001b[1;31mNameError\u001b[0m: name 'remove_duplicates' is not defined"
     ]
    }
   ],
   "source": [
    "def square_generate():\n",
    "    for i in range(1, 11):\n",
    "        yield i**2\n",
    "\n",
    "my_list = [1, 2, 2, 3, 4, 4, 5]\n",
    "new_list = remove_duplicates(my_list)\n",
    "print(new_list)"
   ]
  },
  {
   "cell_type": "markdown",
   "id": "a1d16393-1df4-43cf-b690-4798252f0c16",
   "metadata": {},
   "source": [
    "### Exercise 33:\n",
    "Create a generator that yields the squares of numbers from 1 to 10."
   ]
  },
  {
   "cell_type": "code",
   "execution_count": null,
   "id": "cd3e2a9b-0c8d-4d38-99a9-4d2d408c525e",
   "metadata": {},
   "outputs": [],
   "source": [
    "for square in square_generate():\n",
    "    print(square)"
   ]
  },
  {
   "cell_type": "markdown",
   "id": "68dca298-f3bc-430a-9f06-e9b563ce59e2",
   "metadata": {},
   "source": [
    "Exercise 34:\n",
    "Write a Python function that takes a dictionary as input and returns the sum of all its values."
   ]
  },
  {
   "cell_type": "code",
   "execution_count": 32,
   "id": "ff3c17ec-51aa-41a3-a6a9-5d7c9709814a",
   "metadata": {},
   "outputs": [
    {
     "name": "stdout",
     "output_type": "stream",
     "text": [
      "60\n"
     ]
    }
   ],
   "source": [
    "def sum_dict_values(d):\n",
    "    return sum(d.values())\n",
    "\n",
    "# Exemple d'utilisation\n",
    "my_dict = {\"a\": 10, \"b\": 20, \"c\": 30}\n",
    "total = sum_dict_values(my_dict)\n",
    "print(total)"
   ]
  },
  {
   "cell_type": "markdown",
   "id": "fcfd258d-08ed-4a0c-bf7c-352192f4ed22",
   "metadata": {},
   "source": [
    "### Exercise 35:\n",
    "Use the `sorted()` function to sort the list `[3, 1, 4, 1, 5, 9]` in ascending order."
   ]
  },
  {
   "cell_type": "code",
   "execution_count": 33,
   "id": "5b0ad6e3-afaf-47de-9cc3-3e28b5eee636",
   "metadata": {},
   "outputs": [
    {
     "name": "stdout",
     "output_type": "stream",
     "text": [
      "[1, 1, 3, 4, 5, 9]\n"
     ]
    }
   ],
   "source": [
    "numbers = [3, 1, 4, 1, 5, 9]\n",
    "\n",
    "sorted_numbers = sorted(numbers)\n",
    "print(sorted_numbers)"
   ]
  },
  {
   "cell_type": "markdown",
   "id": "44da4557-2373-44b9-8e91-19f5db8ee1cf",
   "metadata": {},
   "source": [
    "### Exercise 36:\n",
    "Write a Python function that takes a list of strings as input and returns the longest string."
   ]
  },
  {
   "cell_type": "code",
   "execution_count": 34,
   "id": "6c5348ce-c47d-4450-a3d9-dc1fb63aaffc",
   "metadata": {},
   "outputs": [],
   "source": [
    "def longest_string(string):\n",
    "    if not string:\n",
    "        return None\n",
    "    return max(string, key=len)"
   ]
  },
  {
   "cell_type": "markdown",
   "id": "76b3db71-ead2-475e-9975-c803abb0b3cc",
   "metadata": {},
   "source": [
    "### Exercise 37:\n",
    "Check if all the elements in the list `[1, 2, 3, 4, 5]` are greater than 0 using the `all()` function."
   ]
  },
  {
   "cell_type": "code",
   "execution_count": 35,
   "id": "b52ba9c9-8018-4d85-ac62-5bb8b230432d",
   "metadata": {},
   "outputs": [
    {
     "name": "stdout",
     "output_type": "stream",
     "text": [
      "True\n"
     ]
    }
   ],
   "source": [
    "numbers = [1, 2, 3, 4, 5]\n",
    "\n",
    "all_greater= all(n > 0 for n in numbers)\n",
    "print(all_greater)"
   ]
  },
  {
   "cell_type": "markdown",
   "id": "f23985fd-665e-44ff-a6d4-99f5d0617109",
   "metadata": {},
   "source": [
    "### Exercise 38:\n",
    "Create a list of tuples where each tuple contains a number and its square for numbers from 1 to 5."
   ]
  },
  {
   "cell_type": "code",
   "execution_count": 36,
   "id": "a2ead3cb-885d-47f8-835f-371d562a1fe6",
   "metadata": {},
   "outputs": [
    {
     "name": "stdout",
     "output_type": "stream",
     "text": [
      "[(1, 1), (2, 4), (3, 9), (4, 16), (5, 25)]\n"
     ]
    }
   ],
   "source": [
    "Mytuple=[(n, n**2) for n in range(1,6)]\n",
    "print(Mytuple)"
   ]
  },
  {
   "cell_type": "markdown",
   "id": "a4f10e1d-7049-4cfb-a46b-e79a77324d22",
   "metadata": {},
   "source": [
    "### Exercise 39:\n",
    "Write a Python function that takes a list of tuples and returns a list of the second elements from each tuple."
   ]
  },
  {
   "cell_type": "code",
   "execution_count": 37,
   "id": "f396c2c0-f130-4465-8b56-ef39b0a60fc9",
   "metadata": {},
   "outputs": [],
   "source": [
    "def second_elements(tuple_list):\n",
    "    return [t[1] for t in tuple_list]"
   ]
  },
  {
   "cell_type": "markdown",
   "id": "2913c5a4-0a34-42eb-a962-1da13e72e4a6",
   "metadata": {},
   "source": [
    "### Exercise 40:\n",
    "Write a Python function that flattens a list of lists into a single list."
   ]
  },
  {
   "cell_type": "code",
   "execution_count": 38,
   "id": "dae44ec1-17ed-4c73-8d6c-3d190db911d5",
   "metadata": {},
   "outputs": [],
   "source": [
    "def flatten_list(list_list):\n",
    "    return [item for sub in list_list for item in sub]"
   ]
  },
  {
   "cell_type": "markdown",
   "id": "78bdd82a-03f8-4981-aea3-d1e67c39d095",
   "metadata": {},
   "source": [
    "### Exercise 41:\n",
    "Use the `enumerate()` function to iterate through the list `[\"apple\", \"banana\", \"cherry\"]` and print the index and value."
   ]
  },
  {
   "cell_type": "code",
   "execution_count": 39,
   "id": "5527245f-a94f-4395-9a9a-0aa8de302e65",
   "metadata": {},
   "outputs": [
    {
     "name": "stdout",
     "output_type": "stream",
     "text": [
      "Index: 0, Value: apple\n",
      "Index: 1, Value: banana\n",
      "Index: 2, Value: cherry\n"
     ]
    }
   ],
   "source": [
    "fruits = [\"apple\", \"banana\", \"cherry\"]\n",
    "\n",
    "for index, value in enumerate(fruits):\n",
    "    print(f\"Index: {index}, Value: {value}\")"
   ]
  },
  {
   "cell_type": "markdown",
   "id": "44a75ba6-709a-4f6a-85cc-f8f5812731a3",
   "metadata": {},
   "source": [
    "### Exercise 42:\n",
    "Write a Python program that checks if a tuple is empty."
   ]
  },
  {
   "cell_type": "code",
   "execution_count": 40,
   "id": "5951ba13-d8fe-4f73-807c-a0cc6a830afb",
   "metadata": {},
   "outputs": [],
   "source": [
    "def function_a(my_tuple):\n",
    "    if not my_tuple:\n",
    "        print(\"The tuple is empty\")\n",
    "    else:\n",
    "        print(\"The tuple is not empty\")"
   ]
  },
  {
   "cell_type": "markdown",
   "id": "985cee05-712a-4e83-9308-f2674f055b18",
   "metadata": {},
   "source": [
    "### Exercise 43:\n",
    "Create a list of even numbers between 1 and 20 using the `range()` function."
   ]
  },
  {
   "cell_type": "code",
   "execution_count": 41,
   "id": "f5963888-f2a5-426d-aa36-83d187cdda36",
   "metadata": {},
   "outputs": [
    {
     "name": "stdout",
     "output_type": "stream",
     "text": [
      "2\n",
      "4\n",
      "6\n",
      "8\n",
      "10\n",
      "12\n",
      "14\n",
      "16\n",
      "18\n",
      "20\n",
      "22\n",
      "24\n",
      "26\n",
      "28\n",
      "30\n",
      "32\n",
      "34\n",
      "36\n",
      "38\n"
     ]
    }
   ],
   "source": [
    "def function_even():\n",
    "    for n in range(1, 20):\n",
    "        even_nomb=2*n\n",
    "        print(even_nomb)\n",
    "function_even()"
   ]
  },
  {
   "cell_type": "markdown",
   "id": "ec831454-03dc-441a-8c25-07aa343b7e6a",
   "metadata": {},
   "source": [
    "### Exercise 44:\n",
    "Write a Python function that takes a list of numbers as input and returns the list in reverse order."
   ]
  },
  {
   "cell_type": "code",
   "execution_count": 42,
   "id": "70ece571-8791-4d1f-b95a-f1b4e7e16982",
   "metadata": {},
   "outputs": [],
   "source": [
    "def reverse_list(liste):\n",
    "    return liste[::-1]"
   ]
  },
  {
   "cell_type": "markdown",
   "id": "8cf339e0-3fca-46d2-8f1c-45f5a10ec07a",
   "metadata": {},
   "source": [
    "### Exercise 45:\n",
    "Create a dictionary comprehension that maps numbers from 1 to 5 to their cubes."
   ]
  },
  {
   "cell_type": "code",
   "execution_count": 43,
   "id": "65ff9b09-c415-4c85-9abc-b82fc7a5da6d",
   "metadata": {},
   "outputs": [
    {
     "name": "stdout",
     "output_type": "stream",
     "text": [
      "{1: 3, 2: 6, 3: 9, 4: 12}\n"
     ]
    }
   ],
   "source": [
    "diction_B={n: n*3 for n in range(1, 5)}\n",
    "print(diction_B)"
   ]
  },
  {
   "cell_type": "markdown",
   "id": "030cb4a9-66f3-437d-a1b3-ad7897993be1",
   "metadata": {},
   "source": [
    "### Exercise 46:\n",
    "Write a Python program that creates a new list containing only the unique elements of the list `[1, 2, 2, 3, 4, 4, 5]`."
   ]
  },
  {
   "cell_type": "code",
   "execution_count": 44,
   "id": "9f5d7c07-da73-4e14-8d12-c2667111e660",
   "metadata": {},
   "outputs": [
    {
     "name": "stdout",
     "output_type": "stream",
     "text": [
      "[1, 2, 3, 4, 5]\n"
     ]
    }
   ],
   "source": [
    "my_list = [1, 2, 2, 3, 4, 4, 5]\n",
    "unique_list = list(set(my_list))\n",
    "print(unique_list)"
   ]
  },
  {
   "cell_type": "markdown",
   "id": "a6227fb4-2e00-4e5f-a40f-8f3e0f9745c7",
   "metadata": {},
   "source": [
    "### Exercise 47:\n",
    "Write a Python function that takes a list of dictionaries and returns a list of the values for a given key."
   ]
  },
  {
   "cell_type": "code",
   "execution_count": 45,
   "id": "7bd59c87-7f54-44a0-8824-5e9d03f3a399",
   "metadata": {},
   "outputs": [],
   "source": [
    "def get_values(dict_list, key):\n",
    "    return [d[key] for d in dict_list if key in d]"
   ]
  },
  {
   "cell_type": "markdown",
   "id": "089c0a42-d8f3-4a6a-a227-44974a21a9f4",
   "metadata": {},
   "source": [
    "### Exercise 48:\n",
    "Write a Python function that uses a generator to yield the Fibonacci sequence up to `n` terms."
   ]
  },
  {
   "cell_type": "code",
   "execution_count": 46,
   "id": "503f423c-22d9-4c2b-9a00-015f07a27429",
   "metadata": {},
   "outputs": [],
   "source": [
    "def fibonacci(n):\n",
    "    if n == 0:\n",
    "        return 0\n",
    "    elif n == 1:\n",
    "        return 1\n",
    "    else:\n",
    "        return fibonacci(n-1) + fibonacci(n-2)"
   ]
  },
  {
   "cell_type": "markdown",
   "id": "9a60fadd-6ed5-4c63-8e43-f8caa4dbed60",
   "metadata": {},
   "source": [
    "### Exercise 49:\n",
    "Write a Python function that takes a string and returns a list of all unique characters in the string."
   ]
  },
  {
   "cell_type": "code",
   "execution_count": 47,
   "id": "4364aab5-7156-4071-ac0f-6d1e6756553b",
   "metadata": {},
   "outputs": [],
   "source": [
    "def unique_characters(s):\n",
    "    return list(set(s))"
   ]
  },
  {
   "cell_type": "markdown",
   "id": "7742d26b-88c3-4fb1-b31d-db51a7bc2206",
   "metadata": {},
   "source": [
    "### Exercise 50:\n",
    "Write a Python function that merges two sorted lists into a single sorted list."
   ]
  },
  {
   "cell_type": "code",
   "execution_count": 48,
   "id": "7755ccf4-5bb5-4854-a75a-0e8e7b03d6db",
   "metadata": {},
   "outputs": [],
   "source": [
    "def sorted_lists(list1, list2):\n",
    "    m = []\n",
    "    i = j = 0\n",
    "\n",
    "    while i < len(list1) and j < len(list2):\n",
    "        if list1[i] < list2[j]:\n",
    "            m.append(list1[i])\n",
    "            i += 1\n",
    "        else:\n",
    "            m.append(list2[j])\n",
    "            j += 1\n",
    "\n",
    "    \n",
    "    m.extend(list1[i:])\n",
    "    m.extend(list2[j:])\n",
    "\n",
    "    return m"
   ]
  },
  {
   "cell_type": "markdown",
   "id": "2ae50b38-30a6-41cd-82c9-4075a10fda8b",
   "metadata": {},
   "source": [
    "Exercise 51: Use the filter() function to filter out odd numbers from the list [1, 2, 3, 4, 5, 6]."
   ]
  },
  {
   "cell_type": "code",
   "execution_count": 49,
   "id": "9fe1b8b2-435e-465d-921c-b2155e9e4afc",
   "metadata": {},
   "outputs": [
    {
     "name": "stdout",
     "output_type": "stream",
     "text": [
      "[2, 4, 6]\n"
     ]
    }
   ],
   "source": [
    "numbers = [1, 2, 3, 4, 5, 6]\n",
    "\n",
    "even_numbers = list(filter(lambda x: x % 2 == 0, numbers))\n",
    "print(even_numbers)"
   ]
  },
  {
   "cell_type": "markdown",
   "id": "e169d6b4-f9b5-45d5-8777-8fc50185a967",
   "metadata": {},
   "source": [
    "### Exercise 52:\n",
    "Write a Python program that converts a list of tuples `[(1, 2), (3, 4), (5, 6)]` into a dictionary."
   ]
  },
  {
   "cell_type": "code",
   "execution_count": 50,
   "id": "0566b2ee-4047-469b-81a7-c044bc9eeb48",
   "metadata": {},
   "outputs": [
    {
     "name": "stdout",
     "output_type": "stream",
     "text": [
      "{1: 2, 3: 4, 5: 6}\n"
     ]
    }
   ],
   "source": [
    "tuples_list = [(1, 2), (3, 4), (5, 6)]\n",
    "\n",
    "converted_dict = dict(tuples_list)\n",
    "print(converted_dict)"
   ]
  },
  {
   "cell_type": "markdown",
   "id": "ebf021f9-2762-4cab-894a-7d5dd6f49f3f",
   "metadata": {},
   "source": [
    "### Exercise 53:\n",
    "Write a Python function that takes two sets and returns their symmetric difference."
   ]
  },
  {
   "cell_type": "code",
   "execution_count": 51,
   "id": "bcd3d42a-1e5c-42ae-802a-ff05c5c28101",
   "metadata": {},
   "outputs": [],
   "source": [
    "def difference_set(set1, set2):\n",
    "    return set1.difference(set2)  "
   ]
  },
  {
   "cell_type": "markdown",
   "id": "225f00ef-eda1-44b5-a290-c556fd0972d8",
   "metadata": {},
   "source": [
    "### Exercise 54:\n",
    "Write a Python program that finds the common elements in three lists `list1`, `list2`, and `list3`."
   ]
  },
  {
   "cell_type": "code",
   "execution_count": 52,
   "id": "b45d7324-8f80-4fd5-92b2-f6ab36a7fba9",
   "metadata": {},
   "outputs": [
    {
     "name": "stdout",
     "output_type": "stream",
     "text": [
      "[2, 3]\n"
     ]
    }
   ],
   "source": [
    "list1 = [1, 2, 3, 4]\n",
    "list2 = [2, 3, 5, 6]\n",
    "list3 = [0, 2, 3, 7]\n",
    "\n",
    "common_elements = list(set(list1) & set(list2) & set(list3))\n",
    "print(common_elements)"
   ]
  },
  {
   "cell_type": "markdown",
   "id": "7928a6e6-73fb-400c-a759-fab6407f8546",
   "metadata": {},
   "source": [
    "### Exercise 55:\n",
    "Write a Python function that returns the factorial of a number using recursion."
   ]
  },
  {
   "cell_type": "code",
   "execution_count": 53,
   "id": "3549bce2-45f5-4a09-8567-4af4903d7491",
   "metadata": {},
   "outputs": [],
   "source": [
    "def factorial(n):\n",
    "    if n == 0 or n == 1:\n",
    "        return 1\n",
    "    else:\n",
    "        return n * factorial(n - 1)"
   ]
  },
  {
   "cell_type": "markdown",
   "id": "19bd7773-ec8a-484c-b4c2-2a14cbbc6403",
   "metadata": {},
   "source": [
    "## Exercice 56\n",
    "Write a Python program that removes all empty strings from the list [\"apple\", \"\", \"banana\", \"\", \"cherry\"]."
   ]
  },
  {
   "cell_type": "code",
   "execution_count": 56,
   "id": "cf485e65-b25b-4479-aa40-6d32dbcd6568",
   "metadata": {},
   "outputs": [
    {
     "name": "stdout",
     "output_type": "stream",
     "text": [
      "['apple', 'banana', 'cherry']\n"
     ]
    }
   ],
   "source": [
    "fruits = [\"apple\", \"\", \"banana\", \"\", \"cherry\"]\n",
    "non_empty_fruits = [fruit for fruit in fruits if fruit != \"\"]\n",
    "\n",
    "print(non_empty_fruits)"
   ]
  },
  {
   "cell_type": "markdown",
   "id": "12035d4d-6b37-40e2-b28d-e8172206be2e",
   "metadata": {},
   "source": [
    "## Exercise 57:\n",
    "Write a Python function that takes a dictionary and returns a new dictionary with the keys and values swapped."
   ]
  },
  {
   "cell_type": "code",
   "execution_count": 57,
   "id": "243ff9d8-fcab-41fc-adc7-a1ff13679bb8",
   "metadata": {},
   "outputs": [],
   "source": [
    "def swap_dict(d):\n",
    "    return {v: k for k, v in d.items()}"
   ]
  },
  {
   "cell_type": "markdown",
   "id": "62750fe7-7be5-4e68-b9e4-9e629f42f0a3",
   "metadata": {},
   "source": [
    "### Exercise 58:\n",
    "Write a Python function that takes a list of integers and returns a new list with only the even numbers."
   ]
  },
  {
   "cell_type": "code",
   "execution_count": 58,
   "id": "e7e29d49-328a-434b-9041-9857b093398b",
   "metadata": {},
   "outputs": [],
   "source": [
    "def get_even_numbers(numbers):\n",
    "    return [n for n in numbers if n % 2 == 0]"
   ]
  },
  {
   "cell_type": "markdown",
   "id": "b4bbab92-c0c7-4c51-a081-23e31ee2a48a",
   "metadata": {},
   "source": [
    "### Exercise 59:\n",
    "Write a Python function that takes a list of tuples and returns a list of the first elements of each tuple."
   ]
  },
  {
   "cell_type": "code",
   "execution_count": 59,
   "id": "c1b810bf-e8ed-47e4-9671-503370955f21",
   "metadata": {},
   "outputs": [],
   "source": [
    "def get_first_elements(tuple_list):\n",
    "    return [t[0] for t in tuple_list]"
   ]
  },
  {
   "cell_type": "markdown",
   "id": "d41e47fb-8eed-4528-b5a8-c57a3fd6fb48",
   "metadata": {},
   "source": [
    "### Exercise 60:\n",
    "Write a Python program that removes duplicates from a list without changing the order of elements."
   ]
  },
  {
   "cell_type": "code",
   "execution_count": 60,
   "id": "3afebdab-58c7-4590-b7fa-130f6fc4875b",
   "metadata": {},
   "outputs": [],
   "source": [
    "def remove_duplicates(lst):\n",
    "    note = set()\n",
    "    result = []\n",
    "    for item in lst:\n",
    "        if item not in note:\n",
    "            note.add(item)\n",
    "            result.append(item)\n",
    "    return result"
   ]
  },
  {
   "cell_type": "markdown",
   "id": "8a79063c-135b-4be3-b443-6303f1e89c02",
   "metadata": {},
   "source": [
    "### Exercise 61:\n",
    "Use the `map()` function to convert a list of strings to a list of their lengths."
   ]
  },
  {
   "cell_type": "code",
   "execution_count": 61,
   "id": "e17f9e43-14e2-4fa3-bf0b-ed7a6a84ad1b",
   "metadata": {},
   "outputs": [
    {
     "name": "stdout",
     "output_type": "stream",
     "text": [
      "[5, 6, 6, 4]\n"
     ]
    }
   ],
   "source": [
    "word = [\"apple\", \"banana\", \"cherry\", \"date\"]\n",
    "\n",
    "length = list(map(len, word))\n",
    "\n",
    "print(length)"
   ]
  },
  {
   "cell_type": "markdown",
   "id": "310e113d-ca18-41cb-8204-c91f5648a8d8",
   "metadata": {},
   "source": [
    "### Exercise 62:\n",
    "Write a Python program that calculates the average of a list of numbers.\n"
   ]
  },
  {
   "cell_type": "code",
   "execution_count": 62,
   "id": "c79fe5b9-422e-47d7-bfb5-b6b893d31283",
   "metadata": {},
   "outputs": [],
   "source": [
    "def calculate_av(numbers):\n",
    "    if not numbers: \n",
    "        return 0\n",
    "    return sum(numbers) / len(numbers)"
   ]
  },
  {
   "cell_type": "markdown",
   "id": "92de2d2f-6cc0-4522-b785-35fe939394b6",
   "metadata": {},
   "source": [
    "### Exercise 63:\n",
    "Write a Python function that generates a list of the first `n` Fibonacci numbers."
   ]
  },
  {
   "cell_type": "code",
   "execution_count": 63,
   "id": "7e00f2dd-9d25-46a5-b6c0-5b96666a83b8",
   "metadata": {},
   "outputs": [],
   "source": [
    "def fibonacci(n):\n",
    "    if n <= 0:\n",
    "        return []\n",
    "    elif n == 1:\n",
    "        return [0]"
   ]
  },
  {
   "cell_type": "markdown",
   "id": "cf6e91b2-acb9-4ff6-bfa2-90ae9b26a731",
   "metadata": {},
   "source": [
    "### Exercise 64:\n",
    "Write a Python program that counts how many times each element appears in the list `[\"apple\", \"banana\", \"apple\", \"cherry\"]`"
   ]
  },
  {
   "cell_type": "code",
   "execution_count": 64,
   "id": "b0077934-6971-4b7e-b7c7-1e5884e84a9d",
   "metadata": {},
   "outputs": [
    {
     "name": "stdout",
     "output_type": "stream",
     "text": [
      "Counter({'apple': 2, 'banana': 1, 'cherry': 1})\n"
     ]
    }
   ],
   "source": [
    "from collections import Counter\n",
    "\n",
    "fruits = [\"apple\", \"banana\", \"apple\", \"cherry\"]\n",
    "count = Counter(fruits)\n",
    "\n",
    "print(count)\n"
   ]
  },
  {
   "cell_type": "markdown",
   "id": "a4e967ef-9cdf-4a10-adab-8f00d2de70cf",
   "metadata": {},
   "source": [
    "### Exercise 65:\n",
    "Write a Python program that removes all occurrences of a specific value from a list."
   ]
  },
  {
   "cell_type": "code",
   "execution_count": 65,
   "id": "0058483e-14f0-48c9-a368-ce415c9ac089",
   "metadata": {},
   "outputs": [
    {
     "name": "stdout",
     "output_type": "stream",
     "text": [
      "[1, 3, 4, 5]\n"
     ]
    }
   ],
   "source": [
    "def remove_value(lst, value):\n",
    "    return [item for item in lst if item != value]\n",
    "\n",
    "# Example usage\n",
    "my_list = [1, 2, 3, 2, 4, 2, 5]\n",
    "value_to_remove = 2\n",
    "new_list = remove_value(my_list, value_to_remove)\n",
    "print(new_list)\n"
   ]
  },
  {
   "cell_type": "markdown",
   "id": "309747c4-a6b5-44a5-b7cd-956430876c80",
   "metadata": {},
   "source": [
    "### Exercise 66:\n",
    "Write a Python function that takes a list of strings and returns a list of the strings that start with a vowel."
   ]
  },
  {
   "cell_type": "code",
   "execution_count": 66,
   "id": "eca3ae0e-7bb0-4fd8-8298-a4e299181cb8",
   "metadata": {},
   "outputs": [],
   "source": [
    "def strings_starting_with_vowel(strings):\n",
    "    vowels= \"Amadysow\"\n",
    "    return [s for s in strings if s and s[0] in vowels]"
   ]
  },
  {
   "cell_type": "markdown",
   "id": "a69f94b4-8138-48a5-aa29-b8250552ec35",
   "metadata": {},
   "source": [
    "### Exercise 67:\n",
    "Write a Python program that finds the intersection of two sets `set1` and `set2`.\n"
   ]
  },
  {
   "cell_type": "code",
   "execution_count": 67,
   "id": "6107bbaa-6c70-4302-91f8-d0507f72a47f",
   "metadata": {},
   "outputs": [
    {
     "name": "stdout",
     "output_type": "stream",
     "text": [
      "{3, 4}\n"
     ]
    }
   ],
   "source": [
    "set1 = {1, 2, 3, 4}\n",
    "set2 = {3, 4, 5, 6}\n",
    "\n",
    "intersection = set1 & set2  # or set1.intersection(set2)\n",
    "print(intersection)"
   ]
  },
  {
   "cell_type": "markdown",
   "id": "5acc298b-ca01-42bb-bc7d-832b98a26af8",
   "metadata": {},
   "source": [
    "### Exercise 68:\n",
    "Write a Python function that flattens a nested list."
   ]
  },
  {
   "cell_type": "code",
   "execution_count": 68,
   "id": "369e79a3-ce7f-4bd9-b004-68d455216959",
   "metadata": {},
   "outputs": [],
   "source": [
    "def flatten(nested_list):\n",
    "    flat_list = []\n",
    "    for sublist in nested_list:\n",
    "        for item in sublist:\n",
    "            flat_list.append(item)\n",
    "    return flat_list"
   ]
  },
  {
   "cell_type": "markdown",
   "id": "7a0ea901-4e64-46bc-b9e9-6d6ce678a6ea",
   "metadata": {},
   "source": [
    "### Exercise 69:\n",
    "Write a Python program that checks if all the elements in a list are unique.\n"
   ]
  },
  {
   "cell_type": "code",
   "execution_count": 69,
   "id": "5d81d31c-f4f3-47be-a772-dcf4619952a8",
   "metadata": {},
   "outputs": [],
   "source": [
    "def all_unique(lst):\n",
    "    return len(lst) == len(set(lst))"
   ]
  },
  {
   "cell_type": "markdown",
   "id": "d4766b9b-b954-4ae0-bdde-d1e8fa65b540",
   "metadata": {},
   "source": [
    "### Exercise 70:\n",
    "Use the `reduce()` function from the `functools` module to multiply all elements in a list.\n"
   ]
  },
  {
   "cell_type": "code",
   "execution_count": 70,
   "id": "ca84e156-171c-4e45-92d5-8a14ed27a518",
   "metadata": {},
   "outputs": [
    {
     "name": "stdout",
     "output_type": "stream",
     "text": [
      "120\n"
     ]
    }
   ],
   "source": [
    "numbers = [2, 3, 4, 5]\n",
    "\n",
    "product = 1\n",
    "for n in numbers:\n",
    "    product *= n\n",
    "\n",
    "print(product)\n"
   ]
  },
  {
   "cell_type": "markdown",
   "id": "71ed6d03-8da3-4a82-8f49-8c0b5fc4e2e9",
   "metadata": {},
   "source": [
    "### Exercise 71:\n",
    "Write a Python function that takes a list of strings and returns a dictionary where keys are strings and values are their lengths"
   ]
  },
  {
   "cell_type": "code",
   "execution_count": 261,
   "id": "6b68785b-a199-4489-8565-bbe5b55fd354",
   "metadata": {},
   "outputs": [],
   "source": [
    "def strings_to_lengths(strings):\n",
    "    return {s: len(s) for s in strings}"
   ]
  },
  {
   "cell_type": "markdown",
   "id": "da82f467-f96d-44c0-8410-6b4354b91183",
   "metadata": {},
   "source": [
    "### Exercise 72:\n",
    "Write a Python program that counts the number of vowels in a string.\n"
   ]
  },
  {
   "cell_type": "code",
   "execution_count": 262,
   "id": "f01db5b6-0ff5-4156-ad93-32352859cb18",
   "metadata": {},
   "outputs": [],
   "source": [
    "# Exercise 72\n",
    "def count_vowels(s):\n",
    "    vowels = \"aeiouAEIOU\"\n",
    "    return sum(1 for char in s if char in vowels)"
   ]
  },
  {
   "cell_type": "markdown",
   "id": "a7b6288c-4578-40ec-85fe-88e6e1f96e68",
   "metadata": {},
   "source": [
    "### Exercise 73:\n",
    "Create a list of tuples where each tuple contains a number from 1 to 5 and its factorial.\n",
    "\n",
    "```python\n",
    "# Exercise 73"
   ]
  },
  {
   "cell_type": "code",
   "execution_count": 263,
   "id": "70802760-62fa-4c6c-821b-6d575d2e94c6",
   "metadata": {},
   "outputs": [
    {
     "name": "stdout",
     "output_type": "stream",
     "text": [
      "[(1, 1), (2, 2), (3, 6), (4, 24), (5, 120)]\n"
     ]
    }
   ],
   "source": [
    "import math\n",
    "\n",
    "factorials = [(i, math.factorial(i)) for i in range(1, 6)]\n",
    "print(factorials)"
   ]
  },
  {
   "cell_type": "markdown",
   "id": "44e6b95e-b3b6-4bce-9afe-13895bfe773e",
   "metadata": {},
   "source": [
    "### Exercise 74:\n",
    "Write a Python program that converts a list of dictionaries into a single dictionary by merging them.\n"
   ]
  },
  {
   "cell_type": "code",
   "execution_count": 264,
   "id": "151124cd-6aff-405b-8b69-167203a60396",
   "metadata": {},
   "outputs": [
    {
     "name": "stdout",
     "output_type": "stream",
     "text": [
      "{'a': 1, 'b': 2, 'c': 3}\n"
     ]
    }
   ],
   "source": [
    "dict_list = [{\"a\": 1}, {\"b\": 2}, {\"c\": 3}]\n",
    "merged_dict = {k: v for d in dict_list for k, v in d.items()}\n",
    "print(merged_dict)"
   ]
  },
  {
   "cell_type": "markdown",
   "id": "e595e34f-b017-4edf-862f-63e3531b2eb6",
   "metadata": {},
   "source": [
    "### Exercise 75:\n",
    "Write a Python function that checks if a set is a subset of another set.\n"
   ]
  },
  {
   "cell_type": "code",
   "execution_count": 265,
   "id": "d2cf5f14-bcdd-4369-ad9e-3b7faa091826",
   "metadata": {},
   "outputs": [],
   "source": [
    "def is_subset(set1, set2):\n",
    "    return set1.is_subset(set2)"
   ]
  },
  {
   "cell_type": "markdown",
   "id": "057fb4f6-c630-44cb-bd4c-542bda20321b",
   "metadata": {},
   "source": [
    "### Exercise 76:\n",
    "Write a Python program that sorts a list of tuples based on the second element in each tuple.\n"
   ]
  },
  {
   "cell_type": "code",
   "execution_count": 266,
   "id": "2d331d5d-79d1-4214-9d1a-99ffbc4cbca3",
   "metadata": {},
   "outputs": [
    {
     "name": "stdout",
     "output_type": "stream",
     "text": [
      "[(2, 1), (3, 2), (1, 3)]\n"
     ]
    }
   ],
   "source": [
    "tuples_list = [(1, 3), (2, 1), (3, 2)]\n",
    "sorted_list = sorted(tuples_list, key=lambda x: x[1])\n",
    "print(sorted_list)"
   ]
  },
  {
   "cell_type": "markdown",
   "id": "26c4fd4f-66b0-44a0-b87b-30f0eec4c39d",
   "metadata": {},
   "source": [
    "### Exercise 77:\n",
    "Write a Python function that takes a list of integers and returns a new list with only the positive integers.\n"
   ]
  },
  {
   "cell_type": "code",
   "execution_count": 267,
   "id": "8072a0c1-ef65-4f0f-91d5-6647800fb343",
   "metadata": {},
   "outputs": [],
   "source": [
    "def positive_integers(lst):\n",
    "    return [x for x in lst if x > 0]"
   ]
  },
  {
   "cell_type": "markdown",
   "id": "14dba53e-09be-496b-9f6c-73d4a90e35cb",
   "metadata": {},
   "source": [
    "### Exercise 78:\n",
    "Write a Python function that takes two sets and returns their union.\n"
   ]
  },
  {
   "cell_type": "code",
   "execution_count": 268,
   "id": "0b58e4f5-952d-447f-ab16-d4e55136e9d4",
   "metadata": {},
   "outputs": [],
   "source": [
    "def union_sets(set1, set2):\n",
    "    return set1 | set2"
   ]
  },
  {
   "cell_type": "markdown",
   "id": "56668578-e6ba-416e-af2f-4a8879917032",
   "metadata": {},
   "source": [
    "### Exercise 79:\n",
    "Write a Python function that takes a list of numbers and returns the product of all the numbers.\n"
   ]
  },
  {
   "cell_type": "code",
   "execution_count": 269,
   "id": "622310a6-3759-4fbb-829d-5354603fce56",
   "metadata": {},
   "outputs": [],
   "source": [
    "from functools import reduce\n",
    "\n",
    "def product_of_list(lst):\n",
    "    return reduce(lambda x, y: x * y, lst, 1)"
   ]
  },
  {
   "cell_type": "markdown",
   "id": "6ecec9f6-7a23-4655-b81a-3a2bff1d34fb",
   "metadata": {},
   "source": [
    "### Exercise 80:\n",
    "Write a Python program that converts a list of characters into a string."
   ]
  },
  {
   "cell_type": "code",
   "execution_count": 270,
   "id": "65f7e469-a3e9-4a47-8341-28e9a80f289f",
   "metadata": {},
   "outputs": [
    {
     "name": "stdout",
     "output_type": "stream",
     "text": [
      "Hello\n"
     ]
    }
   ],
   "source": [
    "chars = ['H', 'e', 'l', 'l', 'o']\n",
    "string = ''.join(chars)\n",
    "print(string)"
   ]
  },
  {
   "cell_type": "markdown",
   "id": "954ac910-792c-4751-b5c0-8577fce5e870",
   "metadata": {},
   "source": [
    "### Exercise 81:\n",
    "Write a Python program that finds the second largest number in a list of integers."
   ]
  },
  {
   "cell_type": "code",
   "execution_count": 271,
   "id": "5e343e99-df08-43ee-8584-474b62275c15",
   "metadata": {},
   "outputs": [],
   "source": [
    "def second_largest(lst):\n",
    "    unique_numbers = list(set(lst))\n",
    "    if len(unique_numbers) < 2:\n",
    "        return None\n",
    "    unique_numbers.sort()\n",
    "    return unique_numbers[-2]"
   ]
  },
  {
   "cell_type": "markdown",
   "id": "6e30f863-ffb6-4088-b2b8-140cba6253b4",
   "metadata": {},
   "source": [
    "### Exercise 82:\n",
    "Write a Python function that takes a dictionary and returns a list of its keys in sorted order."
   ]
  },
  {
   "cell_type": "code",
   "execution_count": 272,
   "id": "bd9780a6-eb06-43ff-8e75-481a36913687",
   "metadata": {},
   "outputs": [],
   "source": [
    "def sorted_keys(d):\n",
    "    return sorted(d.keys())"
   ]
  },
  {
   "cell_type": "markdown",
   "id": "701149aa-8eb1-46da-83ed-75231057b403",
   "metadata": {},
   "source": [
    "### Exercise 83:\n",
    "Write a Python program that finds the most common element in a list."
   ]
  },
  {
   "cell_type": "code",
   "execution_count": 273,
   "id": "4831b305-6923-4d07-b180-ff9a0fde9f23",
   "metadata": {},
   "outputs": [],
   "source": [
    "from collections import Counter\n",
    "\n",
    "def most_common(lst):\n",
    "    return Counter(lst).most_common(1)[0][0]"
   ]
  },
  {
   "cell_type": "markdown",
   "id": "7f37342c-d053-4650-bffd-7bb7905df005",
   "metadata": {},
   "source": [
    "### Exercise 84:\n",
    "Write a Python function that takes a list of tuples and returns a list of the tuples sorted by the first element."
   ]
  },
  {
   "cell_type": "code",
   "execution_count": 274,
   "id": "2fa84954-6f75-48c2-9300-5e45fbf0a35a",
   "metadata": {},
   "outputs": [],
   "source": [
    "def sort_by_first(tuples_list):\n",
    "    return sorted(tuples_list, key=lambda x: x[0])"
   ]
  },
  {
   "cell_type": "markdown",
   "id": "70a1a33a-00c1-49a5-94a4-46984aa85638",
   "metadata": {},
   "source": [
    "### Exercise 85:\n",
    "Write a Python program that removes duplicates from a list of dictionaries."
   ]
  },
  {
   "cell_type": "code",
   "execution_count": 275,
   "id": "ffc33d04-5d85-4b5a-8f3a-980a4dbad829",
   "metadata": {},
   "outputs": [],
   "source": [
    "def remove_duplicates_dict(lst):\n",
    "    seen = []\n",
    "    result = []\n",
    "    for d in lst:\n",
    "        if d not in seen:\n",
    "            seen.append(d)\n",
    "            result.append(d)\n",
    "    return result"
   ]
  },
  {
   "cell_type": "markdown",
   "id": "02540fca-0bcf-47ab-b272-3ad72e64e1b6",
   "metadata": {},
   "source": [
    "### Exercise 86:\n",
    "Write a Python function that takes a list of numbers and returns the minimum and maximum numbers in the list."
   ]
  },
  {
   "cell_type": "code",
   "execution_count": 276,
   "id": "baa8cde4-8c44-4e7e-8f9b-f2f8a518d55e",
   "metadata": {},
   "outputs": [],
   "source": [
    "def min_max(lst):\n",
    "    return (min(lst), max(lst))"
   ]
  },
  {
   "cell_type": "markdown",
   "id": "4a8ad931-2155-41bc-9bbf-52481532ea04",
   "metadata": {},
   "source": [
    "### Exercise 87:\n",
    "Write a Python program that creates a list of tuples from two lists."
   ]
  },
  {
   "cell_type": "code",
   "execution_count": 277,
   "id": "43ad0cab-4248-428c-94ee-935c55bdc82e",
   "metadata": {},
   "outputs": [
    {
     "name": "stdout",
     "output_type": "stream",
     "text": [
      "[(1, 'a'), (2, 'b'), (3, 'c')]\n"
     ]
    }
   ],
   "source": [
    "list1 = [1, 2, 3]\n",
    "list2 = ['a', 'b', 'c']\n",
    "zipped_list = list(zip(list1, list2))\n",
    "print(zipped_list)"
   ]
  },
  {
   "cell_type": "markdown",
   "id": "3b4aac84-eb85-4bbe-a7e8-7330bef95b14",
   "metadata": {},
   "source": [
    "### Exercise 88:\n",
    "Write a Python function that takes a list of strings and returns a list of the strings in reverse order."
   ]
  },
  {
   "cell_type": "code",
   "execution_count": 278,
   "id": "8b171650-a148-478e-a431-eda9b0eafbf9",
   "metadata": {},
   "outputs": [],
   "source": [
    "def reverse_strings(lst):\n",
    "    return [s[::-1] for s in lst]"
   ]
  },
  {
   "cell_type": "markdown",
   "id": "b2b5bf9f-f741-4d56-ad57-6a98e28b9edc",
   "metadata": {},
   "source": [
    "### Exercise 89:\n",
    "Write a Python function that takes a list of integers and returns the sum of all odd numbers."
   ]
  },
  {
   "cell_type": "code",
   "execution_count": 279,
   "id": "a557eb33-1a32-44a7-b6f8-5d878017058a",
   "metadata": {},
   "outputs": [],
   "source": [
    "def sum_odds(lst):\n",
    "    return sum(x for x in lst if x % 2 != 0)"
   ]
  },
  {
   "cell_type": "markdown",
   "id": "3d110440-a6ad-4e63-8f72-301a4386bc99",
   "metadata": {},
   "source": [
    "### Exercise 90:\n",
    "Write a Python program that checks if a string is a palindrome."
   ]
  },
  {
   "cell_type": "code",
   "execution_count": 280,
   "id": "53e8f573-b754-4e8c-b60d-a98713e222bf",
   "metadata": {},
   "outputs": [],
   "source": [
    "def is_palindrome(s):\n",
    "    s = s.lower().replace(\" \", \"\")\n",
    "    return s == s[::-1]"
   ]
  },
  {
   "cell_type": "markdown",
   "id": "4a36b8df-0cee-4179-8f38-7350143c69c9",
   "metadata": {},
   "source": [
    "### Exercise 91:\n",
    "Write a Python program that finds the median of a list of numbers."
   ]
  },
  {
   "cell_type": "code",
   "execution_count": 281,
   "id": "2651e0b9-f05c-42ba-b1a0-0f3a92aedb11",
   "metadata": {},
   "outputs": [],
   "source": [
    "def median(lst):\n",
    "    sorted_lst = sorted(lst)\n",
    "    n = len(sorted_lst)\n",
    "    mid = n // 2\n",
    "    if n % 2 == 0:\n",
    "        return (sorted_lst[mid - 1] + sorted_lst[mid]) / 2\n",
    "    else:\n",
    "        return sorted_lst[mid]"
   ]
  },
  {
   "cell_type": "markdown",
   "id": "4d8e3d91-bcd5-40f1-8c92-389f0ca72fdd",
   "metadata": {},
   "source": [
    "### Exercise 92:\n",
    "Write a Python function that takes a list of dictionaries and returns a dictionary with the total value for each key."
   ]
  },
  {
   "cell_type": "code",
   "execution_count": 282,
   "id": "bf2d9052-e487-420d-b4aa-be4eff56b125",
   "metadata": {},
   "outputs": [],
   "source": [
    "def sum_dicts(dict_list):\n",
    "    total = {}\n",
    "    for d in dict_list:\n",
    "        for k, v in d.items():\n",
    "            total[k] = total.get(k, 0) + v\n",
    "    return total"
   ]
  },
  {
   "cell_type": "markdown",
   "id": "729e5466-e9f0-471d-a503-df08029ba72f",
   "metadata": {},
   "source": [
    "### Exercise 93:\n",
    "Write a Python program that calculates the mode of a list of numbers."
   ]
  },
  {
   "cell_type": "code",
   "execution_count": 283,
   "id": "641957c3-5d3d-47bc-b9c1-e2fb62e166ea",
   "metadata": {},
   "outputs": [],
   "source": [
    "from collections import Counter\n",
    "\n",
    "def mode(lst):\n",
    "    count = Counter(lst)\n",
    "    max_freq = max(count.values())\n",
    "    return [k for k, v in count.items() if v == max_freq]"
   ]
  },
  {
   "cell_type": "markdown",
   "id": "12e45364-513a-4b74-975a-e59c954919ec",
   "metadata": {},
   "source": [
    "### Exercise 94:\n",
    "Write a Python function that takes a list of numbers and returns the sum of the squares of all the numbers.\n"
   ]
  },
  {
   "cell_type": "code",
   "execution_count": 284,
   "id": "86692e58-3af9-47f6-a108-f2f048564ea2",
   "metadata": {},
   "outputs": [],
   "source": [
    "def sum_of_squares(lst):\n",
    "    return sum(x**2 for x in lst)"
   ]
  },
  {
   "cell_type": "markdown",
   "id": "9302d9eb-22fb-4544-9d2c-8f0d46292cf9",
   "metadata": {},
   "source": [
    "### Exercise 95:\n",
    "Write a Python program that creates a list of tuples, where each tuple contains a number and its cube for numbers from 1 to 5."
   ]
  },
  {
   "cell_type": "code",
   "execution_count": 285,
   "id": "9fb6b413-5eb4-4732-b9d4-8bd62416680f",
   "metadata": {},
   "outputs": [
    {
     "name": "stdout",
     "output_type": "stream",
     "text": [
      "[(1, 1), (2, 8), (3, 27), (4, 64), (5, 125)]\n"
     ]
    }
   ],
   "source": [
    "cubes = [(i, i**3) for i in range(1, 6)]\n",
    "print(cubes)"
   ]
  },
  {
   "cell_type": "markdown",
   "id": "202d18ad-b2bd-4f3c-9af1-d240ba0da936",
   "metadata": {},
   "source": [
    "### Exercise 96:\n",
    "Write a Python function that returns a list of all prime numbers up to `n`.\n"
   ]
  },
  {
   "cell_type": "code",
   "execution_count": 286,
   "id": "fff9e1c6-e0ea-4be3-9249-ff7e23494b35",
   "metadata": {},
   "outputs": [
    {
     "name": "stdout",
     "output_type": "stream",
     "text": [
      "[2, 3, 5, 7, 11, 13, 17, 19]\n"
     ]
    }
   ],
   "source": [
    "def primes_up_to(n):\n",
    "    primes = []\n",
    "    for num in range(2, n+1):\n",
    "        if all(num % i != 0 for i in range(2, int(num**0.5)+1)):\n",
    "            primes.append(num)\n",
    "    return primes\n",
    "\n",
    "print(primes_up_to(20)) "
   ]
  },
  {
   "cell_type": "markdown",
   "id": "8262e312-061e-47de-8809-07f18815ace5",
   "metadata": {},
   "source": [
    "### Exercise 97:\n",
    "Write a Python program that finds the common keys between two dictionaries.\n"
   ]
  },
  {
   "cell_type": "code",
   "execution_count": 287,
   "id": "bf1aaff2-bbd9-4407-b8b8-81862b5b93ec",
   "metadata": {},
   "outputs": [],
   "source": [
    "def common_keys(d1, d2):\n",
    "    return d1.keys() & d2.keys()"
   ]
  },
  {
   "cell_type": "markdown",
   "id": "9ebd1534-5c4e-4a0f-b594-2d775eff3b58",
   "metadata": {},
   "source": [
    "### Exercise 98:\n",
    "Write a Python function that takes a list of strings and returns a list of the strings that contain more than 5 characters."
   ]
  },
  {
   "cell_type": "code",
   "execution_count": 288,
   "id": "bfaa3013-8e0b-475c-be93-ff8717f797c2",
   "metadata": {},
   "outputs": [],
   "source": [
    "def long_strings(lst):\n",
    "    return [s for s in lst if len(s) > 5]"
   ]
  },
  {
   "cell_type": "markdown",
   "id": "ab6e6058-b939-4a33-bfde-c051e316dff3",
   "metadata": {},
   "source": [
    "### Exercise 99:\n",
    "Write a Python program that converts a list of strings into a list of tuples, where each tuple contains the string and its length."
   ]
  },
  {
   "cell_type": "code",
   "execution_count": 289,
   "id": "129b4143-d7e7-443b-924d-248996f1ab9f",
   "metadata": {},
   "outputs": [],
   "source": [
    "def long_strings(lst):\n",
    "    return [s for s in lst if len(s) > 5]"
   ]
  },
  {
   "cell_type": "markdown",
   "id": "7454aadc-2048-456c-891b-d9b5b2e9bd00",
   "metadata": {},
   "source": [
    "### Exercise 100:\n",
    "Write a Python function that takes a list of dictionaries and returns a new dictionary by summing the values of each key across all dictionaries."
   ]
  },
  {
   "cell_type": "code",
   "execution_count": 290,
   "id": "d6dea2eb-7c9c-458c-bf77-01b0641d5a49",
   "metadata": {},
   "outputs": [],
   "source": [
    "def sum_values(dict_list):\n",
    "    result = {}\n",
    "    for d in dict_list:\n",
    "        for k, v in d.items():\n",
    "            result[k] = result.get(k, 0) + v\n",
    "    return result"
   ]
  },
  {
   "cell_type": "code",
   "execution_count": null,
   "id": "a54b30cf-b4f6-4c3e-a5a3-29db747c26d8",
   "metadata": {},
   "outputs": [],
   "source": []
  },
  {
   "cell_type": "code",
   "execution_count": null,
   "id": "4e27bc77-4188-43b0-9c1e-93b9c37316a4",
   "metadata": {},
   "outputs": [],
   "source": []
  },
  {
   "cell_type": "code",
   "execution_count": null,
   "id": "da9136b1-8738-4c5e-a045-291c498fbf03",
   "metadata": {},
   "outputs": [],
   "source": []
  }
 ],
 "metadata": {
  "colab": {
   "provenance": []
  },
  "kernelspec": {
   "display_name": "Python [conda env:base] *",
   "language": "python",
   "name": "conda-base-py"
  },
  "language_info": {
   "codemirror_mode": {
    "name": "ipython",
    "version": 3
   },
   "file_extension": ".py",
   "mimetype": "text/x-python",
   "name": "python",
   "nbconvert_exporter": "python",
   "pygments_lexer": "ipython3",
   "version": "3.13.5"
  }
 },
 "nbformat": 4,
 "nbformat_minor": 5
}
